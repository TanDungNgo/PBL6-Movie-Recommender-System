{
 "cells": [
  {
   "cell_type": "code",
   "execution_count": 1,
   "metadata": {},
   "outputs": [],
   "source": [
    "import setup_django\n",
    "\n",
    "setup_django.init()"
   ]
  },
  {
   "cell_type": "code",
   "execution_count": 2,
   "metadata": {},
   "outputs": [
    {
     "data": {
      "text/plain": [
       "<MovieQuerySet [{'title': 'Four Rooms', 'release_date': datetime.date(1995, 12, 9), 'rating_avg': None, 'rating_count': 0}, {'title': 'Judgment Night', 'release_date': datetime.date(1993, 10, 15), 'rating_avg': Decimal('3.00'), 'rating_count': 1}, {'title': 'Star Wars', 'release_date': datetime.date(1977, 5, 25), 'rating_avg': None, 'rating_count': 0}, {'title': 'Forrest Gump', 'release_date': datetime.date(1994, 7, 6), 'rating_avg': None, 'rating_count': 0}, {'title': 'Citizen Kane', 'release_date': datetime.date(1941, 4, 30), 'rating_avg': None, 'rating_count': 0}, {'title': '2001: A Space Odyssey', 'release_date': datetime.date(1968, 4, 10), 'rating_avg': Decimal('1.00'), 'rating_count': 1}, {'title': 'Twelve Monkeys', 'release_date': datetime.date(1995, 12, 29), 'rating_avg': Decimal('1.00'), 'rating_count': 1}, {'title': 'Before Sunrise', 'release_date': datetime.date(1995, 1, 27), 'rating_avg': None, 'rating_count': 0}, {'title': 'Blade Runner', 'release_date': datetime.date(1982, 6, 25), 'rating_avg': None, 'rating_count': 0}, {'title': 'Leon: The Professional', 'release_date': datetime.date(1994, 9, 14), 'rating_avg': None, 'rating_count': 0}, {'title': 'Taxi Driver', 'release_date': datetime.date(1976, 2, 7), 'rating_avg': None, 'rating_count': 0}, {'title': 'Three Colors: Blue', 'release_date': datetime.date(1993, 1, 10), 'rating_avg': None, 'rating_count': 0}, {'title': 'Three Colors: White', 'release_date': datetime.date(1994, 1, 26), 'rating_avg': Decimal('2.00'), 'rating_count': 2}, {'title': 'Three Colors: Red', 'release_date': datetime.date(1994, 5, 27), 'rating_avg': Decimal('2.00'), 'rating_count': 1}, {'title': 'Pretty Woman', 'release_date': datetime.date(1990, 3, 23), 'rating_avg': None, 'rating_count': 0}, {'title': 'Maybe... Maybe Not', 'release_date': datetime.date(1994, 10, 5), 'rating_avg': None, 'rating_count': 0}, {'title': \"Breakfast at Tiffany's\", 'release_date': datetime.date(1961, 10, 5), 'rating_avg': Decimal('2.00'), 'rating_count': 1}, {'title': '20,000 Leagues Under the Sea', 'release_date': datetime.date(1954, 12, 23), 'rating_avg': None, 'rating_count': 0}, {'title': 'Blown Away', 'release_date': datetime.date(1994, 7, 1), 'rating_avg': None, 'rating_count': 0}, {'title': 'Star Trek: Generations', 'release_date': datetime.date(1994, 11, 17), 'rating_avg': None, 'rating_count': 0}, '...(remaining elements truncated)...']>"
      ]
     },
     "execution_count": 2,
     "metadata": {},
     "output_type": "execute_result"
    }
   ],
   "source": [
    "from movies.models import Movie\n",
    "qs = Movie.objects.all().values('title', 'release_date', 'rating_avg', 'rating_count')\n",
    "qs"
   ]
  },
  {
   "cell_type": "code",
   "execution_count": 4,
   "metadata": {},
   "outputs": [
    {
     "data": {
      "text/html": [
       "<div>\n",
       "<style scoped>\n",
       "    .dataframe tbody tr th:only-of-type {\n",
       "        vertical-align: middle;\n",
       "    }\n",
       "\n",
       "    .dataframe tbody tr th {\n",
       "        vertical-align: top;\n",
       "    }\n",
       "\n",
       "    .dataframe thead th {\n",
       "        text-align: right;\n",
       "    }\n",
       "</style>\n",
       "<table border=\"1\" class=\"dataframe\">\n",
       "  <thead>\n",
       "    <tr style=\"text-align: right;\">\n",
       "      <th></th>\n",
       "      <th>title</th>\n",
       "      <th>release_date</th>\n",
       "      <th>rating_avg</th>\n",
       "      <th>rating_count</th>\n",
       "    </tr>\n",
       "  </thead>\n",
       "  <tbody>\n",
       "    <tr>\n",
       "      <th>0</th>\n",
       "      <td>Four Rooms</td>\n",
       "      <td>1995-12-09</td>\n",
       "      <td>None</td>\n",
       "      <td>0</td>\n",
       "    </tr>\n",
       "    <tr>\n",
       "      <th>1</th>\n",
       "      <td>Judgment Night</td>\n",
       "      <td>1993-10-15</td>\n",
       "      <td>3.00</td>\n",
       "      <td>1</td>\n",
       "    </tr>\n",
       "    <tr>\n",
       "      <th>2</th>\n",
       "      <td>Star Wars</td>\n",
       "      <td>1977-05-25</td>\n",
       "      <td>None</td>\n",
       "      <td>0</td>\n",
       "    </tr>\n",
       "    <tr>\n",
       "      <th>3</th>\n",
       "      <td>Forrest Gump</td>\n",
       "      <td>1994-07-06</td>\n",
       "      <td>None</td>\n",
       "      <td>0</td>\n",
       "    </tr>\n",
       "    <tr>\n",
       "      <th>4</th>\n",
       "      <td>Citizen Kane</td>\n",
       "      <td>1941-04-30</td>\n",
       "      <td>None</td>\n",
       "      <td>0</td>\n",
       "    </tr>\n",
       "  </tbody>\n",
       "</table>\n",
       "</div>"
      ],
      "text/plain": [
       "            title release_date rating_avg  rating_count\n",
       "0      Four Rooms   1995-12-09       None             0\n",
       "1  Judgment Night   1993-10-15       3.00             1\n",
       "2       Star Wars   1977-05-25       None             0\n",
       "3    Forrest Gump   1994-07-06       None             0\n",
       "4    Citizen Kane   1941-04-30       None             0"
      ]
     },
     "execution_count": 4,
     "metadata": {},
     "output_type": "execute_result"
    }
   ],
   "source": [
    "import pandas as pd\n",
    "\n",
    "df = pd.DataFrame(qs)\n",
    "df.head()"
   ]
  }
 ],
 "metadata": {
  "kernelspec": {
   "display_name": "venv",
   "language": "python",
   "name": "python3"
  },
  "language_info": {
   "codemirror_mode": {
    "name": "ipython",
    "version": 3
   },
   "file_extension": ".py",
   "mimetype": "text/x-python",
   "name": "python",
   "nbconvert_exporter": "python",
   "pygments_lexer": "ipython3",
   "version": "3.8.4"
  }
 },
 "nbformat": 4,
 "nbformat_minor": 2
}
