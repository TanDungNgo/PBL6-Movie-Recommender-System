{
 "cells": [
  {
   "cell_type": "markdown",
   "metadata": {},
   "source": [
    "# Collaborative Filtering using Tensorflow & Keras\n",
    "In our [Recommender Course](https://www.codingforentrepreneurs.com/courses/recommender/) we build a Django-based recommendation engine leveraging the Surprise ML package (among other things). This guide is made to help you upgrade your ML package by leveraging Keras and a neural network. \n",
    "\n",
    "\n",
    "Recommended requirements for running this notebook:\n",
    "- GPU-accelerated / CUDA-enabled environment\n",
    "- Cloud-based service such as Google Colab, Deepnote, and/or Paperspace\n",
    "- [Recommender]((https://github.com/codingforentrepreneurs/recommender)) code forked/cloned/downloaded, open-source datasets loaded in, and Recommender models exported\n",
    "- To export the [Recommender](https://github.com/codingforentrepreneurs/recommender)'s datasets, you can run the functions `export_rating_dataset_task` and `export_movies_dataset_task` in the `exports/tasks.py`\n",
    "-  After you run these functions, you'll have the movies dataset located in `local-cdn/media/exports/movies/latest.csv` and the ratings dataset in `local-cdn/media/exports/ratings/latest.csv`\n",
    "\n",
    "\n",
    "\n",
    "This code was directly inspired and modified from the following posts:\n",
    "- [Fast.ai's Collaborative Filtering Lesson](https://course.fast.ai/Lessons/lesson7.html)\n",
    "- [How to create a Recommendation System from scratch using Keras from the Antonai Blog](https://antonai.blog/how-to-create-a-recommendation-system-from-scratch-using-keras/)\n",
    "- [Collaborative Filtering for Movie Recommendations the Keras Docs](https://keras.io/examples/structured_data/collaborative_filtering_movielens/)\n",
    "\n",
    "\n",
    "### Open this notebook in...\n",
    "\n",
    "[<img src=\"https://deepnote.com/buttons/launch-in-deepnote-white-small.svg\">](https://deepnote.com/launch?url=https://github.com/codingforentrepreneurs/recommender/blob/main/src/nbs/Example%20Collaborative%20Filtering%20with%20Tensorflow%20Keras.ipynb)\n",
    "\n",
    "[![Open In Colab](https://colab.research.google.com/assets/colab-badge.svg)](https://colab.research.google.com/github/codingforentrepreneurs/recommender/blob/main/src/nbs/Example%20Collaborative%20Filtering%20with%20Tensorflow%20Keras.ipynb)\n",
    "\n",
    "[![Run on Gradient](https://assets.paperspace.io/img/gradient-badge.svg)](https://console.paperspace.com/github/codingforentrepreneurs/recommender/blob/main/src/nbs/Example%20Collaborative%20Filtering%20with%20Tensorflow%20Keras.ipynb)"
   ]
  },
  {
   "cell_type": "code",
   "execution_count": 2,
   "metadata": {},
   "outputs": [
    {
     "name": "stdout",
     "output_type": "stream",
     "text": [
      "Collecting tensorflow\n",
      "  Downloading tensorflow-2.13.1-cp38-cp38-win_amd64.whl (1.9 kB)\n",
      "Collecting sklearn\n",
      "  Using cached sklearn-0.0.post11.tar.gz (3.6 kB)\n",
      "Collecting matplotlib\n",
      "  Downloading matplotlib-3.7.4-cp38-cp38-win_amd64.whl (7.5 MB)\n",
      "Requirement already satisfied: pandas in e:\\subjects\\pbl6-movie recommender system\\recommender\\venv\\lib\\site-packages (2.0.3)\n"
     ]
    },
    {
     "name": "stderr",
     "output_type": "stream",
     "text": [
      "ERROR: Could not find a version that satisfies the requirement tensorflow-intel==2.13.1; platform_system == \"Windows\" (from tensorflow) (from versions: 0.0.1, 2.10.0.dev20220728, 2.10.0rc0, 2.10.0rc1, 2.10.0rc2, 2.10.0rc3, 2.10.0, 2.10.1, 2.11.0rc0, 2.11.0rc1, 2.11.0rc2, 2.11.0, 2.11.1, 2.12.0rc0, 2.12.0rc1, 2.12.0, 2.12.1, 2.13.0rc0, 2.13.0rc1, 2.13.0rc2, 2.13.0)\n",
      "ERROR: No matching distribution found for tensorflow-intel==2.13.1; platform_system == \"Windows\" (from tensorflow)\n"
     ]
    }
   ],
   "source": [
    "# !pip install tensorflow sklearn matplotlib pandas"
   ]
  },
  {
   "cell_type": "code",
   "execution_count": 3,
   "metadata": {
    "execution": {
     "iopub.execute_input": "2022-09-21T17:06:09.946362Z",
     "iopub.status.busy": "2022-09-21T17:06:09.946069Z",
     "iopub.status.idle": "2022-09-21T17:06:09.950651Z",
     "shell.execute_reply": "2022-09-21T17:06:09.950028Z",
     "shell.execute_reply.started": "2022-09-21T17:06:09.946342Z"
    },
    "id": "HCvzSnGbZKs4"
   },
   "outputs": [],
   "source": [
    "import pandas as pd\n",
    "import numpy as np\n",
    "from zipfile import ZipFile\n",
    "import tensorflow as tf\n",
    "from tensorflow import keras\n",
    "from tensorflow.keras import layers\n",
    "import pathlib\n",
    "from pathlib import Path\n",
    "import matplotlib.pyplot as plt\n",
    "from sklearn.model_selection import train_test_split"
   ]
  },
  {
   "cell_type": "code",
   "execution_count": 25,
   "metadata": {
    "execution": {
     "iopub.execute_input": "2022-09-21T17:06:09.960324Z",
     "iopub.status.busy": "2022-09-21T17:06:09.960104Z",
     "iopub.status.idle": "2022-09-21T17:06:09.964650Z",
     "shell.execute_reply": "2022-09-21T17:06:09.964029Z",
     "shell.execute_reply.started": "2022-09-21T17:06:09.960307Z"
    }
   },
   "outputs": [
    {
     "name": "stdout",
     "output_type": "stream",
     "text": [
      "True True\n"
     ]
    }
   ],
   "source": [
    "# if using a cloud provider, upload your files to an \"exports folder\"\n",
    "# exports_dir = pathlib.Path().resolve() / 'exports' \n",
    "\n",
    "# if running this notebook from the root of the Recommender project\n",
    "exports_dir = pathlib.Path().resolve().parent /'data' / 'local-cdn' / 'media' / 'exports'\n",
    "\n",
    "movies_exports = exports_dir / 'movies' / 'latest.csv'\n",
    "ratings_exports = exports_dir / 'ratings' / 'latest.csv'\n",
    "print(movies_exports.exists(), ratings_exports.exists())"
   ]
  },
  {
   "cell_type": "markdown",
   "metadata": {},
   "source": [
    "Load in the movies dataset"
   ]
  },
  {
   "cell_type": "code",
   "execution_count": 26,
   "metadata": {
    "execution": {
     "iopub.execute_input": "2022-09-21T17:06:09.966139Z",
     "iopub.status.busy": "2022-09-21T17:06:09.965948Z",
     "iopub.status.idle": "2022-09-21T17:06:10.017754Z",
     "shell.execute_reply": "2022-09-21T17:06:10.016986Z",
     "shell.execute_reply.started": "2022-09-21T17:06:09.966124Z"
    }
   },
   "outputs": [
    {
     "name": "stdout",
     "output_type": "stream",
     "text": [
      "(42277, 6)\n"
     ]
    },
    {
     "data": {
      "text/html": [
       "<div>\n",
       "<style scoped>\n",
       "    .dataframe tbody tr th:only-of-type {\n",
       "        vertical-align: middle;\n",
       "    }\n",
       "\n",
       "    .dataframe tbody tr th {\n",
       "        vertical-align: top;\n",
       "    }\n",
       "\n",
       "    .dataframe thead th {\n",
       "        text-align: right;\n",
       "    }\n",
       "</style>\n",
       "<table border=\"1\" class=\"dataframe\">\n",
       "  <thead>\n",
       "    <tr style=\"text-align: right;\">\n",
       "      <th></th>\n",
       "      <th>release_date</th>\n",
       "      <th>rating_count</th>\n",
       "      <th>rating_avg</th>\n",
       "      <th>movieId</th>\n",
       "      <th>movieIdx</th>\n",
       "      <th>trend</th>\n",
       "    </tr>\n",
       "  </thead>\n",
       "  <tbody>\n",
       "    <tr>\n",
       "      <th>0</th>\n",
       "      <td>1995-10-30</td>\n",
       "      <td>247.0</td>\n",
       "      <td>3.97</td>\n",
       "      <td>1</td>\n",
       "      <td>0</td>\n",
       "      <td>980.59</td>\n",
       "    </tr>\n",
       "    <tr>\n",
       "      <th>1</th>\n",
       "      <td>1986-10-16</td>\n",
       "      <td>59.0</td>\n",
       "      <td>3.24</td>\n",
       "      <td>3</td>\n",
       "      <td>1</td>\n",
       "      <td>191.16</td>\n",
       "    </tr>\n",
       "    <tr>\n",
       "      <th>2</th>\n",
       "      <td>1995-12-22</td>\n",
       "      <td>13.0</td>\n",
       "      <td>2.46</td>\n",
       "      <td>4</td>\n",
       "      <td>2</td>\n",
       "      <td>31.98</td>\n",
       "    </tr>\n",
       "    <tr>\n",
       "      <th>3</th>\n",
       "      <td>1995-12-09</td>\n",
       "      <td>56.0</td>\n",
       "      <td>3.36</td>\n",
       "      <td>5</td>\n",
       "      <td>3</td>\n",
       "      <td>188.16</td>\n",
       "    </tr>\n",
       "    <tr>\n",
       "      <th>4</th>\n",
       "      <td>1995-12-15</td>\n",
       "      <td>53.0</td>\n",
       "      <td>3.34</td>\n",
       "      <td>7</td>\n",
       "      <td>4</td>\n",
       "      <td>177.02</td>\n",
       "    </tr>\n",
       "  </tbody>\n",
       "</table>\n",
       "</div>"
      ],
      "text/plain": [
       "  release_date  rating_count  rating_avg  movieId  movieIdx   trend\n",
       "0   1995-10-30         247.0        3.97        1         0  980.59\n",
       "1   1986-10-16          59.0        3.24        3         1  191.16\n",
       "2   1995-12-22          13.0        2.46        4         2   31.98\n",
       "3   1995-12-09          56.0        3.36        5         3  188.16\n",
       "4   1995-12-15          53.0        3.34        7         4  177.02"
      ]
     },
     "execution_count": 26,
     "metadata": {},
     "output_type": "execute_result"
    }
   ],
   "source": [
    "movies_df = pd.read_csv(movies_exports)\n",
    "\n",
    "# add a \"trend\" column to combine the count of ratings with the movie's average rating\n",
    "movies_df['trend'] = movies_df['rating_count'] * movies_df['rating_avg']\n",
    "movies_df['movieIdx'] = movies_df['movieIdx'].astype(int)\n",
    "movies_df['movieId'] = movies_df['movieId'].astype(int)\n",
    "\n",
    "print(movies_df.shape)\n",
    "movies_df.head()"
   ]
  },
  {
   "cell_type": "markdown",
   "metadata": {},
   "source": [
    "Load in the entire ratings dataset"
   ]
  },
  {
   "cell_type": "code",
   "execution_count": 27,
   "metadata": {
    "execution": {
     "iopub.execute_input": "2022-09-21T17:06:10.019295Z",
     "iopub.status.busy": "2022-09-21T17:06:10.019034Z",
     "iopub.status.idle": "2022-09-21T17:06:10.039846Z",
     "shell.execute_reply": "2022-09-21T17:06:10.039211Z",
     "shell.execute_reply.started": "2022-09-21T17:06:10.019273Z"
    }
   },
   "outputs": [
    {
     "name": "stdout",
     "output_type": "stream",
     "text": [
      "(80913, 3)\n"
     ]
    },
    {
     "data": {
      "text/html": [
       "<div>\n",
       "<style scoped>\n",
       "    .dataframe tbody tr th:only-of-type {\n",
       "        vertical-align: middle;\n",
       "    }\n",
       "\n",
       "    .dataframe tbody tr th {\n",
       "        vertical-align: top;\n",
       "    }\n",
       "\n",
       "    .dataframe thead th {\n",
       "        text-align: right;\n",
       "    }\n",
       "</style>\n",
       "<table border=\"1\" class=\"dataframe\">\n",
       "  <thead>\n",
       "    <tr style=\"text-align: right;\">\n",
       "      <th></th>\n",
       "      <th>userId</th>\n",
       "      <th>movieId</th>\n",
       "      <th>rating</th>\n",
       "    </tr>\n",
       "  </thead>\n",
       "  <tbody>\n",
       "    <tr>\n",
       "      <th>0</th>\n",
       "      <td>1</td>\n",
       "      <td>300665</td>\n",
       "      <td>4</td>\n",
       "    </tr>\n",
       "    <tr>\n",
       "      <th>1</th>\n",
       "      <td>1</td>\n",
       "      <td>439502</td>\n",
       "      <td>4</td>\n",
       "    </tr>\n",
       "    <tr>\n",
       "      <th>2</th>\n",
       "      <td>1</td>\n",
       "      <td>271404</td>\n",
       "      <td>5</td>\n",
       "    </tr>\n",
       "    <tr>\n",
       "      <th>3</th>\n",
       "      <td>671</td>\n",
       "      <td>4896</td>\n",
       "      <td>5</td>\n",
       "    </tr>\n",
       "    <tr>\n",
       "      <th>4</th>\n",
       "      <td>671</td>\n",
       "      <td>4963</td>\n",
       "      <td>5</td>\n",
       "    </tr>\n",
       "  </tbody>\n",
       "</table>\n",
       "</div>"
      ],
      "text/plain": [
       "   userId  movieId  rating\n",
       "0       1   300665       4\n",
       "1       1   439502       4\n",
       "2       1   271404       5\n",
       "3     671     4896       5\n",
       "4     671     4963       5"
      ]
     },
     "execution_count": 27,
     "metadata": {},
     "output_type": "execute_result"
    }
   ],
   "source": [
    "rating_df = pd.read_csv(ratings_exports)\n",
    "print(rating_df.shape)\n",
    "rating_df.head()"
   ]
  },
  {
   "cell_type": "markdown",
   "metadata": {},
   "source": [
    "Join the movies dataset and ratings dataset."
   ]
  },
  {
   "cell_type": "code",
   "execution_count": 28,
   "metadata": {
    "execution": {
     "iopub.execute_input": "2022-09-21T17:06:10.040852Z",
     "iopub.status.busy": "2022-09-21T17:06:10.040662Z",
     "iopub.status.idle": "2022-09-21T17:06:10.074145Z",
     "shell.execute_reply": "2022-09-21T17:06:10.073404Z",
     "shell.execute_reply.started": "2022-09-21T17:06:10.040836Z"
    }
   },
   "outputs": [
    {
     "name": "stdout",
     "output_type": "stream",
     "text": [
      "(80913, 9)\n"
     ]
    },
    {
     "data": {
      "text/html": [
       "<div>\n",
       "<style scoped>\n",
       "    .dataframe tbody tr th:only-of-type {\n",
       "        vertical-align: middle;\n",
       "    }\n",
       "\n",
       "    .dataframe tbody tr th {\n",
       "        vertical-align: top;\n",
       "    }\n",
       "\n",
       "    .dataframe thead th {\n",
       "        text-align: right;\n",
       "    }\n",
       "</style>\n",
       "<table border=\"1\" class=\"dataframe\">\n",
       "  <thead>\n",
       "    <tr style=\"text-align: right;\">\n",
       "      <th></th>\n",
       "      <th>userId</th>\n",
       "      <th>movieId</th>\n",
       "      <th>rating</th>\n",
       "      <th>release_date</th>\n",
       "      <th>rating_count</th>\n",
       "      <th>rating_avg</th>\n",
       "      <th>movieId_movie_df</th>\n",
       "      <th>movieIdx</th>\n",
       "      <th>trend</th>\n",
       "    </tr>\n",
       "  </thead>\n",
       "  <tbody>\n",
       "    <tr>\n",
       "      <th>13824</th>\n",
       "      <td>564</td>\n",
       "      <td>183</td>\n",
       "      <td>5</td>\n",
       "      <td>2000-02-09</td>\n",
       "      <td>311.0</td>\n",
       "      <td>4.57</td>\n",
       "      <td>318.0</td>\n",
       "      <td>183.0</td>\n",
       "      <td>1421.27</td>\n",
       "    </tr>\n",
       "    <tr>\n",
       "      <th>13832</th>\n",
       "      <td>564</td>\n",
       "      <td>206</td>\n",
       "      <td>5</td>\n",
       "      <td>1994-07-06</td>\n",
       "      <td>341.0</td>\n",
       "      <td>4.15</td>\n",
       "      <td>356.0</td>\n",
       "      <td>206.0</td>\n",
       "      <td>1415.15</td>\n",
       "    </tr>\n",
       "    <tr>\n",
       "      <th>17617</th>\n",
       "      <td>547</td>\n",
       "      <td>206</td>\n",
       "      <td>1</td>\n",
       "      <td>1994-07-06</td>\n",
       "      <td>341.0</td>\n",
       "      <td>4.15</td>\n",
       "      <td>356.0</td>\n",
       "      <td>206.0</td>\n",
       "      <td>1415.15</td>\n",
       "    </tr>\n",
       "    <tr>\n",
       "      <th>18388</th>\n",
       "      <td>536</td>\n",
       "      <td>206</td>\n",
       "      <td>4</td>\n",
       "      <td>1994-07-06</td>\n",
       "      <td>341.0</td>\n",
       "      <td>4.15</td>\n",
       "      <td>356.0</td>\n",
       "      <td>206.0</td>\n",
       "      <td>1415.15</td>\n",
       "    </tr>\n",
       "    <tr>\n",
       "      <th>31361</th>\n",
       "      <td>451</td>\n",
       "      <td>206</td>\n",
       "      <td>4</td>\n",
       "      <td>1994-07-06</td>\n",
       "      <td>341.0</td>\n",
       "      <td>4.15</td>\n",
       "      <td>356.0</td>\n",
       "      <td>206.0</td>\n",
       "      <td>1415.15</td>\n",
       "    </tr>\n",
       "  </tbody>\n",
       "</table>\n",
       "</div>"
      ],
      "text/plain": [
       "       userId  movieId  rating release_date  rating_count  rating_avg  \\\n",
       "13824     564      183       5   2000-02-09         311.0        4.57   \n",
       "13832     564      206       5   1994-07-06         341.0        4.15   \n",
       "17617     547      206       1   1994-07-06         341.0        4.15   \n",
       "18388     536      206       4   1994-07-06         341.0        4.15   \n",
       "31361     451      206       4   1994-07-06         341.0        4.15   \n",
       "\n",
       "       movieId_movie_df  movieIdx    trend  \n",
       "13824             318.0     183.0  1421.27  \n",
       "13832             356.0     206.0  1415.15  \n",
       "17617             356.0     206.0  1415.15  \n",
       "18388             356.0     206.0  1415.15  \n",
       "31361             356.0     206.0  1415.15  "
      ]
     },
     "execution_count": 28,
     "metadata": {},
     "output_type": "execute_result"
    }
   ],
   "source": [
    "df = rating_df.copy()\n",
    "df['userId'] = df['userId'].astype(int)\n",
    "df['movieId'] = df['movieId'].astype(int)\n",
    "df = df.join(movies_df, on='movieId', rsuffix='_movie_df')\n",
    "df.sort_values(by=['trend'], inplace=True, ascending=False)\n",
    "print(df.shape)\n",
    "df.head()"
   ]
  },
  {
   "cell_type": "markdown",
   "metadata": {},
   "source": [
    "Make note of the missing number of movies from the ratings dataset. These are missing for a couple reasons: \n",
    "- Initial dataset used had invalid ids (from the movielens datasset) - Most likely\n",
    "- Movies have been deleted from the Recommender database - Likely\n",
    "- Incorrect datatypes - Unlikely but possible"
   ]
  },
  {
   "cell_type": "code",
   "execution_count": 9,
   "metadata": {
    "execution": {
     "iopub.execute_input": "2022-09-21T17:06:10.075958Z",
     "iopub.status.busy": "2022-09-21T17:06:10.075767Z",
     "iopub.status.idle": "2022-09-21T17:06:10.085651Z",
     "shell.execute_reply": "2022-09-21T17:06:10.085017Z",
     "shell.execute_reply.started": "2022-09-21T17:06:10.075943Z"
    }
   },
   "outputs": [
    {
     "name": "stdout",
     "output_type": "stream",
     "text": [
      "2733 movie ids missing that were rated\n"
     ]
    }
   ],
   "source": [
    "missing_data = df[df['movieIdx'].isna()]\n",
    "\n",
    "number_of_missing_movies = len(missing_data.movieId.unique().tolist())\n",
    "print(number_of_missing_movies, 'movie ids missing that were rated')"
   ]
  },
  {
   "cell_type": "markdown",
   "metadata": {},
   "source": [
    "Drop `NaN` columns that lack a `movieIdx` value:"
   ]
  },
  {
   "cell_type": "code",
   "execution_count": 10,
   "metadata": {
    "execution": {
     "iopub.execute_input": "2022-09-21T17:06:10.086700Z",
     "iopub.status.busy": "2022-09-21T17:06:10.086512Z",
     "iopub.status.idle": "2022-09-21T17:06:10.111342Z",
     "shell.execute_reply": "2022-09-21T17:06:10.110841Z",
     "shell.execute_reply.started": "2022-09-21T17:06:10.086686Z"
    }
   },
   "outputs": [
    {
     "data": {
      "text/plain": [
       "(53219, 9)"
      ]
     },
     "execution_count": 10,
     "metadata": {},
     "output_type": "execute_result"
    }
   ],
   "source": [
    "training_df = df.copy().dropna()\n",
    "training_df['movieIdx'] = training_df['movieIdx'].astype(int)\n",
    "training_df.shape"
   ]
  },
  {
   "cell_type": "code",
   "execution_count": 11,
   "metadata": {
    "execution": {
     "iopub.execute_input": "2022-09-21T17:06:10.112412Z",
     "iopub.status.busy": "2022-09-21T17:06:10.112233Z",
     "iopub.status.idle": "2022-09-21T17:06:10.129617Z",
     "shell.execute_reply": "2022-09-21T17:06:10.129112Z",
     "shell.execute_reply.started": "2022-09-21T17:06:10.112397Z"
    }
   },
   "outputs": [
    {
     "name": "stdout",
     "output_type": "stream",
     "text": [
      "Number of users: 671, Number of Movies: 3324, Min rating: 1.0, Max rating: 5.0\n"
     ]
    }
   ],
   "source": [
    "user_ids = training_df[\"userId\"].unique().tolist()\n",
    "user2user_encoded = {x: i for i, x in enumerate(user_ids)}\n",
    "userencoded2user = {i: x for i, x in enumerate(user_ids)}\n",
    "\n",
    "\n",
    "\n",
    "movie_ids = training_df[\"movieIdx\"].unique().tolist()\n",
    "\n",
    "df = training_df.copy()\n",
    "df[\"user\"] = df[\"userId\"].map(user2user_encoded)\n",
    "df[\"movie\"] = df[\"movieIdx\"]\n",
    "\n",
    "num_users = len(user2user_encoded)\n",
    "num_movies = len(movie_ids)\n",
    "\n",
    "df[\"rating\"] = training_df[\"rating\"].values.astype(np.float32)\n",
    "# min and max ratings will be used to normalize the ratings later\n",
    "min_rating = min(df[\"rating\"])\n",
    "max_rating = max(df[\"rating\"])\n",
    "\n",
    "print(\n",
    "    \"Number of users: {}, Number of Movies: {}, Min rating: {}, Max rating: {}\".format(\n",
    "        num_users, num_movies, min_rating, max_rating\n",
    "    )\n",
    ")"
   ]
  },
  {
   "cell_type": "code",
   "execution_count": 12,
   "metadata": {
    "execution": {
     "iopub.execute_input": "2022-09-21T17:06:10.130513Z",
     "iopub.status.busy": "2022-09-21T17:06:10.130312Z",
     "iopub.status.idle": "2022-09-21T17:06:10.153283Z",
     "shell.execute_reply": "2022-09-21T17:06:10.152775Z",
     "shell.execute_reply.started": "2022-09-21T17:06:10.130497Z"
    }
   },
   "outputs": [],
   "source": [
    "df = df.sample(frac=1, random_state=42)\n",
    "x = df[[\"user\", \"movie\"]].values\n",
    "# Normalize the targets between 0 and 1. Makes it easy to train.\n",
    "y = df[\"rating\"].apply(lambda x: (x - min_rating) / (max_rating - min_rating)).values\n",
    "# Assuming training on 90% of the data and validating on 10%.\n",
    "train_indices = int(0.9 * df.shape[0])\n",
    "x_train, x_val, y_train, y_val = (\n",
    "    x[:train_indices],\n",
    "    x[train_indices:],\n",
    "    y[:train_indices],\n",
    "    y[train_indices:],\n",
    ")"
   ]
  },
  {
   "cell_type": "code",
   "execution_count": 13,
   "metadata": {
    "execution": {
     "iopub.execute_input": "2022-09-21T17:06:10.154113Z",
     "iopub.status.busy": "2022-09-21T17:06:10.153932Z",
     "iopub.status.idle": "2022-09-21T17:06:10.201159Z",
     "shell.execute_reply": "2022-09-21T17:06:10.200590Z",
     "shell.execute_reply.started": "2022-09-21T17:06:10.154098Z"
    }
   },
   "outputs": [],
   "source": [
    "from tensorflow.keras.layers import Embedding, multiply, concatenate, Flatten, Input, Dense\n",
    "from tensorflow.keras import optimizers as opt\n",
    "\n",
    "# from sklearn.model_selection import train_test_split\n",
    "# from keras.layers import Input, Embedding, Flatten, Dot, Dense, Concatenate\n",
    "from keras.models import Model\n",
    "\n",
    "\n",
    "\n",
    "EMBEDDING_SIZE = 500\n",
    "num_unique_users = num_users\n",
    "num_unique_movies = num_movies\n",
    "users_input = Input(shape=(1,), name=\"users_input\")\n",
    "users_embedding = Embedding(num_unique_users + 1, EMBEDDING_SIZE, name=\"users_embeddings\")(users_input)\n",
    "users_bias = Embedding(num_unique_users + 1, 1, name=\"users_bias\")(users_input)\n",
    "\n",
    "movies_input = Input(shape=(1,), name=\"movies_input\")\n",
    "movies_embedding = Embedding(num_unique_movies + 1, EMBEDDING_SIZE, name=\"movies_embedding\")(movies_input)\n",
    "movies_bias = Embedding(num_unique_movies + 1, 1, name=\"movies_bias\")(movies_input)\n",
    "\n",
    "dot_product_users_movies = multiply([users_embedding, movies_embedding])\n",
    "input_terms = dot_product_users_movies + users_bias + movies_bias\n",
    "input_terms = Flatten(name=\"fl_inputs\")(input_terms)\n",
    "# output = Dense(1, activation=\"relu\", name=\"output\")(input_terms) \n",
    "\n",
    "output = Dense(1, activation=\"sigmoid\", name=\"output\")(input_terms) \n",
    "output = output * (max_rating - min_rating) + min_rating\n",
    "\n",
    "\n",
    "model = Model(inputs=[users_input, movies_input], outputs=output)\n",
    "\n",
    "opt_adam = opt.Adam(learning_rate = 0.005)\n",
    "model.compile(optimizer=opt_adam, loss= ['mse'], metrics=['mean_absolute_error'])"
   ]
  },
  {
   "cell_type": "code",
   "execution_count": 14,
   "metadata": {
    "execution": {
     "iopub.execute_input": "2022-09-21T17:07:27.863315Z",
     "iopub.status.busy": "2022-09-21T17:07:27.862678Z",
     "iopub.status.idle": "2022-09-21T17:07:27.883267Z",
     "shell.execute_reply": "2022-09-21T17:07:27.882685Z",
     "shell.execute_reply.started": "2022-09-21T17:07:27.863292Z"
    }
   },
   "outputs": [
    {
     "name": "stdout",
     "output_type": "stream",
     "text": [
      "Model: \"model\"\n",
      "__________________________________________________________________________________________________\n",
      " Layer (type)                Output Shape                 Param #   Connected to                  \n",
      "==================================================================================================\n",
      " users_input (InputLayer)    [(None, 1)]                  0         []                            \n",
      "                                                                                                  \n",
      " movies_input (InputLayer)   [(None, 1)]                  0         []                            \n",
      "                                                                                                  \n",
      " users_embeddings (Embeddin  (None, 1, 500)               336000    ['users_input[0][0]']         \n",
      " g)                                                                                               \n",
      "                                                                                                  \n",
      " movies_embedding (Embeddin  (None, 1, 500)               1662500   ['movies_input[0][0]']        \n",
      " g)                                                                                               \n",
      "                                                                                                  \n",
      " multiply (Multiply)         (None, 1, 500)               0         ['users_embeddings[0][0]',    \n",
      "                                                                     'movies_embedding[0][0]']    \n",
      "                                                                                                  \n",
      " users_bias (Embedding)      (None, 1, 1)                 672       ['users_input[0][0]']         \n",
      "                                                                                                  \n",
      " tf.__operators__.add (TFOp  (None, 1, 500)               0         ['multiply[0][0]',            \n",
      " Lambda)                                                             'users_bias[0][0]']          \n",
      "                                                                                                  \n",
      " movies_bias (Embedding)     (None, 1, 1)                 3325      ['movies_input[0][0]']        \n",
      "                                                                                                  \n",
      " tf.__operators__.add_1 (TF  (None, 1, 500)               0         ['tf.__operators__.add[0][0]',\n",
      " OpLambda)                                                           'movies_bias[0][0]']         \n",
      "                                                                                                  \n",
      " fl_inputs (Flatten)         (None, 500)                  0         ['tf.__operators__.add_1[0][0]\n",
      "                                                                    ']                            \n",
      "                                                                                                  \n",
      " output (Dense)              (None, 1)                    501       ['fl_inputs[0][0]']           \n",
      "                                                                                                  \n",
      " tf.math.multiply (TFOpLamb  (None, 1)                    0         ['output[0][0]']              \n",
      " da)                                                                                              \n",
      "                                                                                                  \n",
      " tf.__operators__.add_2 (TF  (None, 1)                    0         ['tf.math.multiply[0][0]']    \n",
      " OpLambda)                                                                                        \n",
      "                                                                                                  \n",
      "==================================================================================================\n",
      "Total params: 2002998 (7.64 MB)\n",
      "Trainable params: 2002998 (7.64 MB)\n",
      "Non-trainable params: 0 (0.00 Byte)\n",
      "__________________________________________________________________________________________________\n"
     ]
    }
   ],
   "source": [
    "model.summary()"
   ]
  },
  {
   "cell_type": "code",
   "execution_count": 15,
   "metadata": {
    "execution": {
     "iopub.execute_input": "2022-09-21T17:06:10.202063Z",
     "iopub.status.busy": "2022-09-21T17:06:10.201888Z",
     "iopub.status.idle": "2022-09-21T17:06:10.224755Z",
     "shell.execute_reply": "2022-09-21T17:06:10.224197Z",
     "shell.execute_reply.started": "2022-09-21T17:06:10.202048Z"
    }
   },
   "outputs": [],
   "source": [
    "df_train, df_val = train_test_split(df, random_state=42, test_size=0.2, stratify=df.rating)"
   ]
  },
  {
   "cell_type": "code",
   "execution_count": 31,
   "metadata": {},
   "outputs": [
    {
     "data": {
      "text/plain": [
       "55624    4.0\n",
       "12495    2.0\n",
       "70897    4.0\n",
       "63905    5.0\n",
       "1934     5.0\n",
       "        ... \n",
       "14438    4.0\n",
       "27626    3.0\n",
       "9477     4.0\n",
       "49427    3.0\n",
       "58063    5.0\n",
       "Name: rating, Length: 42575, dtype: float32"
      ]
     },
     "execution_count": 31,
     "metadata": {},
     "output_type": "execute_result"
    }
   ],
   "source": [
    "df_train.rating"
   ]
  },
  {
   "cell_type": "code",
   "execution_count": 17,
   "metadata": {
    "execution": {
     "iopub.execute_input": "2022-09-21T17:06:50.781014Z",
     "iopub.status.busy": "2022-09-21T17:06:50.780612Z",
     "iopub.status.idle": "2022-09-21T17:07:02.851920Z",
     "shell.execute_reply": "2022-09-21T17:07:02.851282Z",
     "shell.execute_reply.started": "2022-09-21T17:06:50.780993Z"
    }
   },
   "outputs": [
    {
     "name": "stdout",
     "output_type": "stream",
     "text": [
      "Epoch 1/10\n"
     ]
    },
    {
     "ename": "InvalidArgumentError",
     "evalue": "Graph execution error:\n\nDetected at node 'model/movies_bias/embedding_lookup' defined at (most recent call last):\n    File \"C:\\Users\\tandu\\AppData\\Local\\Programs\\Python\\Python38\\lib\\runpy.py\", line 194, in _run_module_as_main\n      return _run_code(code, main_globals, None,\n    File \"C:\\Users\\tandu\\AppData\\Local\\Programs\\Python\\Python38\\lib\\runpy.py\", line 87, in _run_code\n      exec(code, run_globals)\n    File \"e:\\Subjects\\PBL6-Movie Recommender System\\recommender\\venv\\lib\\site-packages\\ipykernel_launcher.py\", line 17, in <module>\n      app.launch_new_instance()\n    File \"e:\\Subjects\\PBL6-Movie Recommender System\\recommender\\venv\\lib\\site-packages\\traitlets\\config\\application.py\", line 1053, in launch_instance\n      app.start()\n    File \"e:\\Subjects\\PBL6-Movie Recommender System\\recommender\\venv\\lib\\site-packages\\ipykernel\\kernelapp.py\", line 739, in start\n      self.io_loop.start()\n    File \"e:\\Subjects\\PBL6-Movie Recommender System\\recommender\\venv\\lib\\site-packages\\tornado\\platform\\asyncio.py\", line 195, in start\n      self.asyncio_loop.run_forever()\n    File \"C:\\Users\\tandu\\AppData\\Local\\Programs\\Python\\Python38\\lib\\asyncio\\base_events.py\", line 570, in run_forever\n      self._run_once()\n    File \"C:\\Users\\tandu\\AppData\\Local\\Programs\\Python\\Python38\\lib\\asyncio\\base_events.py\", line 1859, in _run_once\n      handle._run()\n    File \"C:\\Users\\tandu\\AppData\\Local\\Programs\\Python\\Python38\\lib\\asyncio\\events.py\", line 81, in _run\n      self._context.run(self._callback, *self._args)\n    File \"e:\\Subjects\\PBL6-Movie Recommender System\\recommender\\venv\\lib\\site-packages\\ipykernel\\kernelbase.py\", line 529, in dispatch_queue\n      await self.process_one()\n    File \"e:\\Subjects\\PBL6-Movie Recommender System\\recommender\\venv\\lib\\site-packages\\ipykernel\\kernelbase.py\", line 518, in process_one\n      await dispatch(*args)\n    File \"e:\\Subjects\\PBL6-Movie Recommender System\\recommender\\venv\\lib\\site-packages\\ipykernel\\kernelbase.py\", line 424, in dispatch_shell\n      await result\n    File \"e:\\Subjects\\PBL6-Movie Recommender System\\recommender\\venv\\lib\\site-packages\\ipykernel\\kernelbase.py\", line 766, in execute_request\n      reply_content = await reply_content\n    File \"e:\\Subjects\\PBL6-Movie Recommender System\\recommender\\venv\\lib\\site-packages\\ipykernel\\ipkernel.py\", line 429, in do_execute\n      res = shell.run_cell(\n    File \"e:\\Subjects\\PBL6-Movie Recommender System\\recommender\\venv\\lib\\site-packages\\ipykernel\\zmqshell.py\", line 549, in run_cell\n      return super().run_cell(*args, **kwargs)\n    File \"e:\\Subjects\\PBL6-Movie Recommender System\\recommender\\venv\\lib\\site-packages\\IPython\\core\\interactiveshell.py\", line 3009, in run_cell\n      result = self._run_cell(\n    File \"e:\\Subjects\\PBL6-Movie Recommender System\\recommender\\venv\\lib\\site-packages\\IPython\\core\\interactiveshell.py\", line 3064, in _run_cell\n      result = runner(coro)\n    File \"e:\\Subjects\\PBL6-Movie Recommender System\\recommender\\venv\\lib\\site-packages\\IPython\\core\\async_helpers.py\", line 129, in _pseudo_sync_runner\n      coro.send(None)\n    File \"e:\\Subjects\\PBL6-Movie Recommender System\\recommender\\venv\\lib\\site-packages\\IPython\\core\\interactiveshell.py\", line 3269, in run_cell_async\n      has_raised = await self.run_ast_nodes(code_ast.body, cell_name,\n    File \"e:\\Subjects\\PBL6-Movie Recommender System\\recommender\\venv\\lib\\site-packages\\IPython\\core\\interactiveshell.py\", line 3448, in run_ast_nodes\n      if await self.run_code(code, result, async_=asy):\n    File \"e:\\Subjects\\PBL6-Movie Recommender System\\recommender\\venv\\lib\\site-packages\\IPython\\core\\interactiveshell.py\", line 3508, in run_code\n      exec(code_obj, self.user_global_ns, self.user_ns)\n    File \"C:\\Users\\tandu\\AppData\\Local\\Temp\\ipykernel_24700\\2630691634.py\", line 1, in <module>\n      history = model.fit(\n    File \"e:\\Subjects\\PBL6-Movie Recommender System\\recommender\\venv\\lib\\site-packages\\keras\\src\\utils\\traceback_utils.py\", line 65, in error_handler\n      return fn(*args, **kwargs)\n    File \"e:\\Subjects\\PBL6-Movie Recommender System\\recommender\\venv\\lib\\site-packages\\keras\\src\\engine\\training.py\", line 1742, in fit\n      tmp_logs = self.train_function(iterator)\n    File \"e:\\Subjects\\PBL6-Movie Recommender System\\recommender\\venv\\lib\\site-packages\\keras\\src\\engine\\training.py\", line 1338, in train_function\n      return step_function(self, iterator)\n    File \"e:\\Subjects\\PBL6-Movie Recommender System\\recommender\\venv\\lib\\site-packages\\keras\\src\\engine\\training.py\", line 1322, in step_function\n      outputs = model.distribute_strategy.run(run_step, args=(data,))\n    File \"e:\\Subjects\\PBL6-Movie Recommender System\\recommender\\venv\\lib\\site-packages\\keras\\src\\engine\\training.py\", line 1303, in run_step\n      outputs = model.train_step(data)\n    File \"e:\\Subjects\\PBL6-Movie Recommender System\\recommender\\venv\\lib\\site-packages\\keras\\src\\engine\\training.py\", line 1080, in train_step\n      y_pred = self(x, training=True)\n    File \"e:\\Subjects\\PBL6-Movie Recommender System\\recommender\\venv\\lib\\site-packages\\keras\\src\\utils\\traceback_utils.py\", line 65, in error_handler\n      return fn(*args, **kwargs)\n    File \"e:\\Subjects\\PBL6-Movie Recommender System\\recommender\\venv\\lib\\site-packages\\keras\\src\\engine\\training.py\", line 569, in __call__\n      return super().__call__(*args, **kwargs)\n    File \"e:\\Subjects\\PBL6-Movie Recommender System\\recommender\\venv\\lib\\site-packages\\keras\\src\\utils\\traceback_utils.py\", line 65, in error_handler\n      return fn(*args, **kwargs)\n    File \"e:\\Subjects\\PBL6-Movie Recommender System\\recommender\\venv\\lib\\site-packages\\keras\\src\\engine\\base_layer.py\", line 1150, in __call__\n      outputs = call_fn(inputs, *args, **kwargs)\n    File \"e:\\Subjects\\PBL6-Movie Recommender System\\recommender\\venv\\lib\\site-packages\\keras\\src\\utils\\traceback_utils.py\", line 96, in error_handler\n      return fn(*args, **kwargs)\n    File \"e:\\Subjects\\PBL6-Movie Recommender System\\recommender\\venv\\lib\\site-packages\\keras\\src\\engine\\functional.py\", line 512, in call\n      return self._run_internal_graph(inputs, training=training, mask=mask)\n    File \"e:\\Subjects\\PBL6-Movie Recommender System\\recommender\\venv\\lib\\site-packages\\keras\\src\\engine\\functional.py\", line 669, in _run_internal_graph\n      outputs = node.layer(*args, **kwargs)\n    File \"e:\\Subjects\\PBL6-Movie Recommender System\\recommender\\venv\\lib\\site-packages\\keras\\src\\utils\\traceback_utils.py\", line 65, in error_handler\n      return fn(*args, **kwargs)\n    File \"e:\\Subjects\\PBL6-Movie Recommender System\\recommender\\venv\\lib\\site-packages\\keras\\src\\engine\\base_layer.py\", line 1150, in __call__\n      outputs = call_fn(inputs, *args, **kwargs)\n    File \"e:\\Subjects\\PBL6-Movie Recommender System\\recommender\\venv\\lib\\site-packages\\keras\\src\\utils\\traceback_utils.py\", line 96, in error_handler\n      return fn(*args, **kwargs)\n    File \"e:\\Subjects\\PBL6-Movie Recommender System\\recommender\\venv\\lib\\site-packages\\keras\\src\\layers\\core\\embedding.py\", line 272, in call\n      out = tf.nn.embedding_lookup(self.embeddings, inputs)\nNode: 'model/movies_bias/embedding_lookup'\nindices[13,0] = 38061 is not in [0, 3325)\n\t [[{{node model/movies_bias/embedding_lookup}}]] [Op:__inference_train_function_1317]",
     "output_type": "error",
     "traceback": [
      "\u001b[1;31m---------------------------------------------------------------------------\u001b[0m",
      "\u001b[1;31mInvalidArgumentError\u001b[0m                      Traceback (most recent call last)",
      "\u001b[1;32me:\\Subjects\\PBL6-Movie Recommender System\\recommender\\src\\jupyter_notebook\\Example Collaborative Filtering with Tensorflow Keras.ipynb Cell 20\u001b[0m line \u001b[0;36m1\n\u001b[1;32m----> <a href='vscode-notebook-cell:/e%3A/Subjects/PBL6-Movie%20Recommender%20System/recommender/src/jupyter_notebook/Example%20Collaborative%20Filtering%20with%20Tensorflow%20Keras.ipynb#X25sZmlsZQ%3D%3D?line=0'>1</a>\u001b[0m history \u001b[39m=\u001b[39m model\u001b[39m.\u001b[39;49mfit(\n\u001b[0;32m      <a href='vscode-notebook-cell:/e%3A/Subjects/PBL6-Movie%20Recommender%20System/recommender/src/jupyter_notebook/Example%20Collaborative%20Filtering%20with%20Tensorflow%20Keras.ipynb#X25sZmlsZQ%3D%3D?line=1'>2</a>\u001b[0m     x\u001b[39m=\u001b[39;49m[df_train\u001b[39m.\u001b[39;49muser\u001b[39m.\u001b[39;49mto_numpy(), df_train\u001b[39m.\u001b[39;49mmovie\u001b[39m.\u001b[39;49mto_numpy()],\n\u001b[0;32m      <a href='vscode-notebook-cell:/e%3A/Subjects/PBL6-Movie%20Recommender%20System/recommender/src/jupyter_notebook/Example%20Collaborative%20Filtering%20with%20Tensorflow%20Keras.ipynb#X25sZmlsZQ%3D%3D?line=2'>3</a>\u001b[0m     y\u001b[39m=\u001b[39;49mdf_train\u001b[39m.\u001b[39;49mrating\u001b[39m.\u001b[39;49mto_numpy(),\n\u001b[0;32m      <a href='vscode-notebook-cell:/e%3A/Subjects/PBL6-Movie%20Recommender%20System/recommender/src/jupyter_notebook/Example%20Collaborative%20Filtering%20with%20Tensorflow%20Keras.ipynb#X25sZmlsZQ%3D%3D?line=3'>4</a>\u001b[0m     batch_size\u001b[39m=\u001b[39;49m\u001b[39m200\u001b[39;49m,\n\u001b[0;32m      <a href='vscode-notebook-cell:/e%3A/Subjects/PBL6-Movie%20Recommender%20System/recommender/src/jupyter_notebook/Example%20Collaborative%20Filtering%20with%20Tensorflow%20Keras.ipynb#X25sZmlsZQ%3D%3D?line=4'>5</a>\u001b[0m     epochs\u001b[39m=\u001b[39;49m\u001b[39m10\u001b[39;49m,\n\u001b[0;32m      <a href='vscode-notebook-cell:/e%3A/Subjects/PBL6-Movie%20Recommender%20System/recommender/src/jupyter_notebook/Example%20Collaborative%20Filtering%20with%20Tensorflow%20Keras.ipynb#X25sZmlsZQ%3D%3D?line=5'>6</a>\u001b[0m     verbose\u001b[39m=\u001b[39;49m\u001b[39m1\u001b[39;49m,\n\u001b[0;32m      <a href='vscode-notebook-cell:/e%3A/Subjects/PBL6-Movie%20Recommender%20System/recommender/src/jupyter_notebook/Example%20Collaborative%20Filtering%20with%20Tensorflow%20Keras.ipynb#X25sZmlsZQ%3D%3D?line=6'>7</a>\u001b[0m     validation_data\u001b[39m=\u001b[39;49m([df_val\u001b[39m.\u001b[39;49muser\u001b[39m.\u001b[39;49mto_numpy(), df_val\u001b[39m.\u001b[39;49mmovie\u001b[39m.\u001b[39;49mto_numpy()],df_val\u001b[39m.\u001b[39;49mrating\u001b[39m.\u001b[39;49mto_numpy()))\n",
      "File \u001b[1;32me:\\Subjects\\PBL6-Movie Recommender System\\recommender\\venv\\lib\\site-packages\\keras\\src\\utils\\traceback_utils.py:70\u001b[0m, in \u001b[0;36mfilter_traceback.<locals>.error_handler\u001b[1;34m(*args, **kwargs)\u001b[0m\n\u001b[0;32m     67\u001b[0m     filtered_tb \u001b[39m=\u001b[39m _process_traceback_frames(e\u001b[39m.\u001b[39m__traceback__)\n\u001b[0;32m     68\u001b[0m     \u001b[39m# To get the full stack trace, call:\u001b[39;00m\n\u001b[0;32m     69\u001b[0m     \u001b[39m# `tf.debugging.disable_traceback_filtering()`\u001b[39;00m\n\u001b[1;32m---> 70\u001b[0m     \u001b[39mraise\u001b[39;00m e\u001b[39m.\u001b[39mwith_traceback(filtered_tb) \u001b[39mfrom\u001b[39;00m \u001b[39mNone\u001b[39;00m\n\u001b[0;32m     71\u001b[0m \u001b[39mfinally\u001b[39;00m:\n\u001b[0;32m     72\u001b[0m     \u001b[39mdel\u001b[39;00m filtered_tb\n",
      "File \u001b[1;32me:\\Subjects\\PBL6-Movie Recommender System\\recommender\\venv\\lib\\site-packages\\tensorflow\\python\\eager\\execute.py:53\u001b[0m, in \u001b[0;36mquick_execute\u001b[1;34m(op_name, num_outputs, inputs, attrs, ctx, name)\u001b[0m\n\u001b[0;32m     51\u001b[0m \u001b[39mtry\u001b[39;00m:\n\u001b[0;32m     52\u001b[0m   ctx\u001b[39m.\u001b[39mensure_initialized()\n\u001b[1;32m---> 53\u001b[0m   tensors \u001b[39m=\u001b[39m pywrap_tfe\u001b[39m.\u001b[39mTFE_Py_Execute(ctx\u001b[39m.\u001b[39m_handle, device_name, op_name,\n\u001b[0;32m     54\u001b[0m                                       inputs, attrs, num_outputs)\n\u001b[0;32m     55\u001b[0m \u001b[39mexcept\u001b[39;00m core\u001b[39m.\u001b[39m_NotOkStatusException \u001b[39mas\u001b[39;00m e:\n\u001b[0;32m     56\u001b[0m   \u001b[39mif\u001b[39;00m name \u001b[39mis\u001b[39;00m \u001b[39mnot\u001b[39;00m \u001b[39mNone\u001b[39;00m:\n",
      "\u001b[1;31mInvalidArgumentError\u001b[0m: Graph execution error:\n\nDetected at node 'model/movies_bias/embedding_lookup' defined at (most recent call last):\n    File \"C:\\Users\\tandu\\AppData\\Local\\Programs\\Python\\Python38\\lib\\runpy.py\", line 194, in _run_module_as_main\n      return _run_code(code, main_globals, None,\n    File \"C:\\Users\\tandu\\AppData\\Local\\Programs\\Python\\Python38\\lib\\runpy.py\", line 87, in _run_code\n      exec(code, run_globals)\n    File \"e:\\Subjects\\PBL6-Movie Recommender System\\recommender\\venv\\lib\\site-packages\\ipykernel_launcher.py\", line 17, in <module>\n      app.launch_new_instance()\n    File \"e:\\Subjects\\PBL6-Movie Recommender System\\recommender\\venv\\lib\\site-packages\\traitlets\\config\\application.py\", line 1053, in launch_instance\n      app.start()\n    File \"e:\\Subjects\\PBL6-Movie Recommender System\\recommender\\venv\\lib\\site-packages\\ipykernel\\kernelapp.py\", line 739, in start\n      self.io_loop.start()\n    File \"e:\\Subjects\\PBL6-Movie Recommender System\\recommender\\venv\\lib\\site-packages\\tornado\\platform\\asyncio.py\", line 195, in start\n      self.asyncio_loop.run_forever()\n    File \"C:\\Users\\tandu\\AppData\\Local\\Programs\\Python\\Python38\\lib\\asyncio\\base_events.py\", line 570, in run_forever\n      self._run_once()\n    File \"C:\\Users\\tandu\\AppData\\Local\\Programs\\Python\\Python38\\lib\\asyncio\\base_events.py\", line 1859, in _run_once\n      handle._run()\n    File \"C:\\Users\\tandu\\AppData\\Local\\Programs\\Python\\Python38\\lib\\asyncio\\events.py\", line 81, in _run\n      self._context.run(self._callback, *self._args)\n    File \"e:\\Subjects\\PBL6-Movie Recommender System\\recommender\\venv\\lib\\site-packages\\ipykernel\\kernelbase.py\", line 529, in dispatch_queue\n      await self.process_one()\n    File \"e:\\Subjects\\PBL6-Movie Recommender System\\recommender\\venv\\lib\\site-packages\\ipykernel\\kernelbase.py\", line 518, in process_one\n      await dispatch(*args)\n    File \"e:\\Subjects\\PBL6-Movie Recommender System\\recommender\\venv\\lib\\site-packages\\ipykernel\\kernelbase.py\", line 424, in dispatch_shell\n      await result\n    File \"e:\\Subjects\\PBL6-Movie Recommender System\\recommender\\venv\\lib\\site-packages\\ipykernel\\kernelbase.py\", line 766, in execute_request\n      reply_content = await reply_content\n    File \"e:\\Subjects\\PBL6-Movie Recommender System\\recommender\\venv\\lib\\site-packages\\ipykernel\\ipkernel.py\", line 429, in do_execute\n      res = shell.run_cell(\n    File \"e:\\Subjects\\PBL6-Movie Recommender System\\recommender\\venv\\lib\\site-packages\\ipykernel\\zmqshell.py\", line 549, in run_cell\n      return super().run_cell(*args, **kwargs)\n    File \"e:\\Subjects\\PBL6-Movie Recommender System\\recommender\\venv\\lib\\site-packages\\IPython\\core\\interactiveshell.py\", line 3009, in run_cell\n      result = self._run_cell(\n    File \"e:\\Subjects\\PBL6-Movie Recommender System\\recommender\\venv\\lib\\site-packages\\IPython\\core\\interactiveshell.py\", line 3064, in _run_cell\n      result = runner(coro)\n    File \"e:\\Subjects\\PBL6-Movie Recommender System\\recommender\\venv\\lib\\site-packages\\IPython\\core\\async_helpers.py\", line 129, in _pseudo_sync_runner\n      coro.send(None)\n    File \"e:\\Subjects\\PBL6-Movie Recommender System\\recommender\\venv\\lib\\site-packages\\IPython\\core\\interactiveshell.py\", line 3269, in run_cell_async\n      has_raised = await self.run_ast_nodes(code_ast.body, cell_name,\n    File \"e:\\Subjects\\PBL6-Movie Recommender System\\recommender\\venv\\lib\\site-packages\\IPython\\core\\interactiveshell.py\", line 3448, in run_ast_nodes\n      if await self.run_code(code, result, async_=asy):\n    File \"e:\\Subjects\\PBL6-Movie Recommender System\\recommender\\venv\\lib\\site-packages\\IPython\\core\\interactiveshell.py\", line 3508, in run_code\n      exec(code_obj, self.user_global_ns, self.user_ns)\n    File \"C:\\Users\\tandu\\AppData\\Local\\Temp\\ipykernel_24700\\2630691634.py\", line 1, in <module>\n      history = model.fit(\n    File \"e:\\Subjects\\PBL6-Movie Recommender System\\recommender\\venv\\lib\\site-packages\\keras\\src\\utils\\traceback_utils.py\", line 65, in error_handler\n      return fn(*args, **kwargs)\n    File \"e:\\Subjects\\PBL6-Movie Recommender System\\recommender\\venv\\lib\\site-packages\\keras\\src\\engine\\training.py\", line 1742, in fit\n      tmp_logs = self.train_function(iterator)\n    File \"e:\\Subjects\\PBL6-Movie Recommender System\\recommender\\venv\\lib\\site-packages\\keras\\src\\engine\\training.py\", line 1338, in train_function\n      return step_function(self, iterator)\n    File \"e:\\Subjects\\PBL6-Movie Recommender System\\recommender\\venv\\lib\\site-packages\\keras\\src\\engine\\training.py\", line 1322, in step_function\n      outputs = model.distribute_strategy.run(run_step, args=(data,))\n    File \"e:\\Subjects\\PBL6-Movie Recommender System\\recommender\\venv\\lib\\site-packages\\keras\\src\\engine\\training.py\", line 1303, in run_step\n      outputs = model.train_step(data)\n    File \"e:\\Subjects\\PBL6-Movie Recommender System\\recommender\\venv\\lib\\site-packages\\keras\\src\\engine\\training.py\", line 1080, in train_step\n      y_pred = self(x, training=True)\n    File \"e:\\Subjects\\PBL6-Movie Recommender System\\recommender\\venv\\lib\\site-packages\\keras\\src\\utils\\traceback_utils.py\", line 65, in error_handler\n      return fn(*args, **kwargs)\n    File \"e:\\Subjects\\PBL6-Movie Recommender System\\recommender\\venv\\lib\\site-packages\\keras\\src\\engine\\training.py\", line 569, in __call__\n      return super().__call__(*args, **kwargs)\n    File \"e:\\Subjects\\PBL6-Movie Recommender System\\recommender\\venv\\lib\\site-packages\\keras\\src\\utils\\traceback_utils.py\", line 65, in error_handler\n      return fn(*args, **kwargs)\n    File \"e:\\Subjects\\PBL6-Movie Recommender System\\recommender\\venv\\lib\\site-packages\\keras\\src\\engine\\base_layer.py\", line 1150, in __call__\n      outputs = call_fn(inputs, *args, **kwargs)\n    File \"e:\\Subjects\\PBL6-Movie Recommender System\\recommender\\venv\\lib\\site-packages\\keras\\src\\utils\\traceback_utils.py\", line 96, in error_handler\n      return fn(*args, **kwargs)\n    File \"e:\\Subjects\\PBL6-Movie Recommender System\\recommender\\venv\\lib\\site-packages\\keras\\src\\engine\\functional.py\", line 512, in call\n      return self._run_internal_graph(inputs, training=training, mask=mask)\n    File \"e:\\Subjects\\PBL6-Movie Recommender System\\recommender\\venv\\lib\\site-packages\\keras\\src\\engine\\functional.py\", line 669, in _run_internal_graph\n      outputs = node.layer(*args, **kwargs)\n    File \"e:\\Subjects\\PBL6-Movie Recommender System\\recommender\\venv\\lib\\site-packages\\keras\\src\\utils\\traceback_utils.py\", line 65, in error_handler\n      return fn(*args, **kwargs)\n    File \"e:\\Subjects\\PBL6-Movie Recommender System\\recommender\\venv\\lib\\site-packages\\keras\\src\\engine\\base_layer.py\", line 1150, in __call__\n      outputs = call_fn(inputs, *args, **kwargs)\n    File \"e:\\Subjects\\PBL6-Movie Recommender System\\recommender\\venv\\lib\\site-packages\\keras\\src\\utils\\traceback_utils.py\", line 96, in error_handler\n      return fn(*args, **kwargs)\n    File \"e:\\Subjects\\PBL6-Movie Recommender System\\recommender\\venv\\lib\\site-packages\\keras\\src\\layers\\core\\embedding.py\", line 272, in call\n      out = tf.nn.embedding_lookup(self.embeddings, inputs)\nNode: 'model/movies_bias/embedding_lookup'\nindices[13,0] = 38061 is not in [0, 3325)\n\t [[{{node model/movies_bias/embedding_lookup}}]] [Op:__inference_train_function_1317]"
     ]
    }
   ],
   "source": [
    "history = model.fit(\n",
    "    x=[df_train.user.to_numpy(), df_train.movie.to_numpy()],\n",
    "    y=df_train.rating.to_numpy(),\n",
    "    batch_size=200,\n",
    "    epochs=10,\n",
    "    verbose=1,\n",
    "    validation_data=([df_val.user.to_numpy(), df_val.movie.to_numpy()],df_val.rating.to_numpy()))"
   ]
  },
  {
   "cell_type": "code",
   "execution_count": null,
   "metadata": {
    "execution": {
     "iopub.execute_input": "2022-09-21T17:13:32.391219Z",
     "iopub.status.busy": "2022-09-21T17:13:32.390726Z",
     "iopub.status.idle": "2022-09-21T17:13:32.445178Z",
     "shell.execute_reply": "2022-09-21T17:13:32.444683Z",
     "shell.execute_reply.started": "2022-09-21T17:13:32.391197Z"
    }
   },
   "outputs": [],
   "source": [
    "number_of_preds = 100\n",
    "movies = df.sample(n=number_of_preds).movie.to_list()\n",
    "user_list = df.sample(n=1).user.to_list() * number_of_preds\n",
    "use_id = False\n",
    "if use_id:\n",
    "    user_list = [user2user_encoded.get(1)] * number_of_preds\n",
    "preds = model.predict(x=[np.array(user_list), np.array(movies)])\n",
    "preds"
   ]
  },
  {
   "cell_type": "code",
   "execution_count": null,
   "metadata": {
    "execution": {
     "iopub.execute_input": "2022-09-21T17:13:46.311869Z",
     "iopub.status.busy": "2022-09-21T17:13:46.311258Z",
     "iopub.status.idle": "2022-09-21T17:13:46.321652Z",
     "shell.execute_reply": "2022-09-21T17:13:46.321048Z",
     "shell.execute_reply.started": "2022-09-21T17:13:46.311846Z"
    }
   },
   "outputs": [],
   "source": [
    "suggestions = []\n",
    "user_id = userencoded2user.get(user_list[0])\n",
    "\n",
    "suggestions_df = movies_df.copy()[movies_df['movieIdx'].isin(movies)]\n",
    "suggestions_df['userId'] = user_id\n",
    "\n",
    "suggestions_df['score'] = suggestions_df['movieIdx'].apply(lambda x: preds[movies.index(x)][0])\n",
    "\n",
    "for i, movieIdx in enumerate(movies):\n",
    "    pred_rank = preds[i][0]\n",
    "    print(user_id, movieIdx, pred_rank)"
   ]
  },
  {
   "cell_type": "code",
   "execution_count": null,
   "metadata": {
    "execution": {
     "iopub.execute_input": "2022-09-21T17:13:47.821071Z",
     "iopub.status.busy": "2022-09-21T17:13:47.820572Z",
     "iopub.status.idle": "2022-09-21T17:13:47.829043Z",
     "shell.execute_reply": "2022-09-21T17:13:47.828514Z",
     "shell.execute_reply.started": "2022-09-21T17:13:47.821050Z"
    }
   },
   "outputs": [],
   "source": [
    "user_ratings = rating_df.copy()[rating_df.userId == suggestions_df.userId.tolist()[0]]\n",
    "user_ratings.rating.describe()"
   ]
  },
  {
   "cell_type": "code",
   "execution_count": null,
   "metadata": {
    "execution": {
     "iopub.execute_input": "2022-09-21T17:13:48.490239Z",
     "iopub.status.busy": "2022-09-21T17:13:48.489743Z",
     "iopub.status.idle": "2022-09-21T17:13:48.498857Z",
     "shell.execute_reply": "2022-09-21T17:13:48.498307Z",
     "shell.execute_reply.started": "2022-09-21T17:13:48.490217Z"
    }
   },
   "outputs": [],
   "source": [
    "suggestions_df.sort_values(by=['score'], inplace=True, ascending=False)\n",
    "suggestions_df.head()"
   ]
  },
  {
   "cell_type": "markdown",
   "metadata": {},
   "source": [
    "Save the model for reuse"
   ]
  },
  {
   "cell_type": "code",
   "execution_count": null,
   "metadata": {},
   "outputs": [],
   "source": [
    "model.save(\"my-model.h5\")"
   ]
  }
 ],
 "metadata": {
  "accelerator": "GPU",
  "colab": {
   "collapsed_sections": [],
   "provenance": []
  },
  "gpuClass": "standard",
  "kernelspec": {
   "display_name": "Python 3 (ipykernel)",
   "language": "python",
   "name": "python3"
  },
  "language_info": {
   "codemirror_mode": {
    "name": "ipython",
    "version": 3
   },
   "file_extension": ".py",
   "mimetype": "text/x-python",
   "name": "python",
   "nbconvert_exporter": "python",
   "pygments_lexer": "ipython3",
   "version": "3.8.4"
  },
  "vscode": {
   "interpreter": {
    "hash": "ec64b31cc60f70e8dab7346c6ae7185d9efc964eeeacbce2cf14a9d83453e877"
   }
  }
 },
 "nbformat": 4,
 "nbformat_minor": 4
}
