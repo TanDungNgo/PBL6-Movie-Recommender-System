{
 "cells": [
  {
   "cell_type": "markdown",
   "metadata": {},
   "source": [
    "# Collaborative Filtering using Tensorflow & Keras\n",
    "In our [Recommender Course](https://www.codingforentrepreneurs.com/courses/recommender/) we build a Django-based recommendation engine leveraging the Surprise ML package (among other things). This guide is made to help you upgrade your ML package by leveraging Keras and a neural network. \n",
    "\n",
    "\n",
    "Recommended requirements for running this notebook:\n",
    "- GPU-accelerated / CUDA-enabled environment\n",
    "- Cloud-based service such as Google Colab, Deepnote, and/or Paperspace\n",
    "- [Recommender]((https://github.com/codingforentrepreneurs/recommender)) code forked/cloned/downloaded, open-source datasets loaded in, and Recommender models exported\n",
    "- To export the [Recommender](https://github.com/codingforentrepreneurs/recommender)'s datasets, you can run the functions `export_rating_dataset_task` and `export_movies_dataset_task` in the `exports/tasks.py`\n",
    "-  After you run these functions, you'll have the movies dataset located in `local-cdn/media/exports/movies/latest.csv` and the ratings dataset in `local-cdn/media/exports/ratings/latest.csv`\n",
    "\n",
    "\n",
    "\n",
    "This code was directly inspired and modified from the following posts:\n",
    "- [Fast.ai's Collaborative Filtering Lesson](https://course.fast.ai/Lessons/lesson7.html)\n",
    "- [How to create a Recommendation System from scratch using Keras from the Antonai Blog](https://antonai.blog/how-to-create-a-recommendation-system-from-scratch-using-keras/)\n",
    "- [Collaborative Filtering for Movie Recommendations the Keras Docs](https://keras.io/examples/structured_data/collaborative_filtering_movielens/)\n",
    "\n",
    "\n",
    "### Open this notebook in...\n",
    "\n",
    "[<img src=\"https://deepnote.com/buttons/launch-in-deepnote-white-small.svg\">](https://deepnote.com/launch?url=https://github.com/codingforentrepreneurs/recommender/blob/main/src/nbs/Example%20Collaborative%20Filtering%20with%20Tensorflow%20Keras.ipynb)\n",
    "\n",
    "[![Open In Colab](https://colab.research.google.com/assets/colab-badge.svg)](https://colab.research.google.com/github/codingforentrepreneurs/recommender/blob/main/src/nbs/Example%20Collaborative%20Filtering%20with%20Tensorflow%20Keras.ipynb)\n",
    "\n",
    "[![Run on Gradient](https://assets.paperspace.io/img/gradient-badge.svg)](https://console.paperspace.com/github/codingforentrepreneurs/recommender/blob/main/src/nbs/Example%20Collaborative%20Filtering%20with%20Tensorflow%20Keras.ipynb)"
   ]
  },
  {
   "cell_type": "code",
   "execution_count": 2,
   "metadata": {},
   "outputs": [
    {
     "name": "stdout",
     "output_type": "stream",
     "text": [
      "Collecting tensorflow\n",
      "  Downloading tensorflow-2.13.1-cp38-cp38-win_amd64.whl (1.9 kB)\n",
      "Collecting sklearn\n",
      "  Using cached sklearn-0.0.post11.tar.gz (3.6 kB)\n",
      "Collecting matplotlib\n",
      "  Downloading matplotlib-3.7.4-cp38-cp38-win_amd64.whl (7.5 MB)\n",
      "Requirement already satisfied: pandas in e:\\subjects\\pbl6-movie recommender system\\recommender\\venv\\lib\\site-packages (2.0.3)\n"
     ]
    },
    {
     "name": "stderr",
     "output_type": "stream",
     "text": [
      "ERROR: Could not find a version that satisfies the requirement tensorflow-intel==2.13.1; platform_system == \"Windows\" (from tensorflow) (from versions: 0.0.1, 2.10.0.dev20220728, 2.10.0rc0, 2.10.0rc1, 2.10.0rc2, 2.10.0rc3, 2.10.0, 2.10.1, 2.11.0rc0, 2.11.0rc1, 2.11.0rc2, 2.11.0, 2.11.1, 2.12.0rc0, 2.12.0rc1, 2.12.0, 2.12.1, 2.13.0rc0, 2.13.0rc1, 2.13.0rc2, 2.13.0)\n",
      "ERROR: No matching distribution found for tensorflow-intel==2.13.1; platform_system == \"Windows\" (from tensorflow)\n"
     ]
    }
   ],
   "source": [
    "# !pip install tensorflow sklearn matplotlib pandas"
   ]
  },
  {
   "cell_type": "code",
   "execution_count": 1,
   "metadata": {
    "execution": {
     "iopub.execute_input": "2022-09-21T17:06:09.946362Z",
     "iopub.status.busy": "2022-09-21T17:06:09.946069Z",
     "iopub.status.idle": "2022-09-21T17:06:09.950651Z",
     "shell.execute_reply": "2022-09-21T17:06:09.950028Z",
     "shell.execute_reply.started": "2022-09-21T17:06:09.946342Z"
    },
    "id": "HCvzSnGbZKs4"
   },
   "outputs": [],
   "source": [
    "import pandas as pd\n",
    "import numpy as np\n",
    "from zipfile import ZipFile\n",
    "import tensorflow as tf\n",
    "from tensorflow import keras\n",
    "from tensorflow.keras import layers\n",
    "import pathlib\n",
    "from pathlib import Path\n",
    "import matplotlib.pyplot as plt\n",
    "from sklearn.model_selection import train_test_split"
   ]
  },
  {
   "cell_type": "code",
   "execution_count": 2,
   "metadata": {
    "execution": {
     "iopub.execute_input": "2022-09-21T17:06:09.960324Z",
     "iopub.status.busy": "2022-09-21T17:06:09.960104Z",
     "iopub.status.idle": "2022-09-21T17:06:09.964650Z",
     "shell.execute_reply": "2022-09-21T17:06:09.964029Z",
     "shell.execute_reply.started": "2022-09-21T17:06:09.960307Z"
    }
   },
   "outputs": [
    {
     "name": "stdout",
     "output_type": "stream",
     "text": [
      "True True\n"
     ]
    }
   ],
   "source": [
    "# if using a cloud provider, upload your files to an \"exports folder\"\n",
    "# exports_dir = pathlib.Path().resolve() / 'exports' \n",
    "\n",
    "# if running this notebook from the root of the Recommender project\n",
    "exports_dir = pathlib.Path().resolve().parent /'data' / 'local-cdn' / 'media' / 'exports'\n",
    "\n",
    "movies_exports = exports_dir / 'movies' / 'latest.csv'\n",
    "ratings_exports = exports_dir / 'ratings' / 'latest.csv'\n",
    "print(movies_exports.exists(), ratings_exports.exists())"
   ]
  },
  {
   "cell_type": "markdown",
   "metadata": {},
   "source": [
    "Load in the movies dataset"
   ]
  },
  {
   "cell_type": "code",
   "execution_count": 3,
   "metadata": {
    "execution": {
     "iopub.execute_input": "2022-09-21T17:06:09.966139Z",
     "iopub.status.busy": "2022-09-21T17:06:09.965948Z",
     "iopub.status.idle": "2022-09-21T17:06:10.017754Z",
     "shell.execute_reply": "2022-09-21T17:06:10.016986Z",
     "shell.execute_reply.started": "2022-09-21T17:06:09.966124Z"
    }
   },
   "outputs": [
    {
     "name": "stdout",
     "output_type": "stream",
     "text": [
      "(42277, 6)\n"
     ]
    },
    {
     "data": {
      "text/html": [
       "<div>\n",
       "<style scoped>\n",
       "    .dataframe tbody tr th:only-of-type {\n",
       "        vertical-align: middle;\n",
       "    }\n",
       "\n",
       "    .dataframe tbody tr th {\n",
       "        vertical-align: top;\n",
       "    }\n",
       "\n",
       "    .dataframe thead th {\n",
       "        text-align: right;\n",
       "    }\n",
       "</style>\n",
       "<table border=\"1\" class=\"dataframe\">\n",
       "  <thead>\n",
       "    <tr style=\"text-align: right;\">\n",
       "      <th></th>\n",
       "      <th>release_date</th>\n",
       "      <th>rating_count</th>\n",
       "      <th>rating_avg</th>\n",
       "      <th>movieId</th>\n",
       "      <th>movieIdx</th>\n",
       "      <th>trend</th>\n",
       "    </tr>\n",
       "  </thead>\n",
       "  <tbody>\n",
       "    <tr>\n",
       "      <th>0</th>\n",
       "      <td>1995-10-30</td>\n",
       "      <td>247.0</td>\n",
       "      <td>3.97</td>\n",
       "      <td>1</td>\n",
       "      <td>0</td>\n",
       "      <td>980.59</td>\n",
       "    </tr>\n",
       "    <tr>\n",
       "      <th>1</th>\n",
       "      <td>1986-10-16</td>\n",
       "      <td>59.0</td>\n",
       "      <td>3.24</td>\n",
       "      <td>3</td>\n",
       "      <td>1</td>\n",
       "      <td>191.16</td>\n",
       "    </tr>\n",
       "    <tr>\n",
       "      <th>2</th>\n",
       "      <td>1995-12-22</td>\n",
       "      <td>13.0</td>\n",
       "      <td>2.46</td>\n",
       "      <td>4</td>\n",
       "      <td>2</td>\n",
       "      <td>31.98</td>\n",
       "    </tr>\n",
       "    <tr>\n",
       "      <th>3</th>\n",
       "      <td>1995-12-09</td>\n",
       "      <td>56.0</td>\n",
       "      <td>3.36</td>\n",
       "      <td>5</td>\n",
       "      <td>3</td>\n",
       "      <td>188.16</td>\n",
       "    </tr>\n",
       "    <tr>\n",
       "      <th>4</th>\n",
       "      <td>1995-12-15</td>\n",
       "      <td>53.0</td>\n",
       "      <td>3.34</td>\n",
       "      <td>7</td>\n",
       "      <td>4</td>\n",
       "      <td>177.02</td>\n",
       "    </tr>\n",
       "  </tbody>\n",
       "</table>\n",
       "</div>"
      ],
      "text/plain": [
       "  release_date  rating_count  rating_avg  movieId  movieIdx   trend\n",
       "0   1995-10-30         247.0        3.97        1         0  980.59\n",
       "1   1986-10-16          59.0        3.24        3         1  191.16\n",
       "2   1995-12-22          13.0        2.46        4         2   31.98\n",
       "3   1995-12-09          56.0        3.36        5         3  188.16\n",
       "4   1995-12-15          53.0        3.34        7         4  177.02"
      ]
     },
     "execution_count": 3,
     "metadata": {},
     "output_type": "execute_result"
    }
   ],
   "source": [
    "movies_df = pd.read_csv(movies_exports)\n",
    "\n",
    "# add a \"trend\" column to combine the count of ratings with the movie's average rating\n",
    "movies_df['trend'] = movies_df['rating_count'] * movies_df['rating_avg']\n",
    "movies_df['movieIdx'] = movies_df['movieIdx'].astype(int)\n",
    "movies_df['movieId'] = movies_df['movieId'].astype(int)\n",
    "\n",
    "print(movies_df.shape)\n",
    "movies_df.head()"
   ]
  },
  {
   "cell_type": "markdown",
   "metadata": {},
   "source": [
    "Load in the entire ratings dataset"
   ]
  },
  {
   "cell_type": "code",
   "execution_count": 4,
   "metadata": {
    "execution": {
     "iopub.execute_input": "2022-09-21T17:06:10.019295Z",
     "iopub.status.busy": "2022-09-21T17:06:10.019034Z",
     "iopub.status.idle": "2022-09-21T17:06:10.039846Z",
     "shell.execute_reply": "2022-09-21T17:06:10.039211Z",
     "shell.execute_reply.started": "2022-09-21T17:06:10.019273Z"
    }
   },
   "outputs": [
    {
     "name": "stdout",
     "output_type": "stream",
     "text": [
      "(80913, 3)\n"
     ]
    },
    {
     "data": {
      "text/html": [
       "<div>\n",
       "<style scoped>\n",
       "    .dataframe tbody tr th:only-of-type {\n",
       "        vertical-align: middle;\n",
       "    }\n",
       "\n",
       "    .dataframe tbody tr th {\n",
       "        vertical-align: top;\n",
       "    }\n",
       "\n",
       "    .dataframe thead th {\n",
       "        text-align: right;\n",
       "    }\n",
       "</style>\n",
       "<table border=\"1\" class=\"dataframe\">\n",
       "  <thead>\n",
       "    <tr style=\"text-align: right;\">\n",
       "      <th></th>\n",
       "      <th>userId</th>\n",
       "      <th>movieId</th>\n",
       "      <th>rating</th>\n",
       "    </tr>\n",
       "  </thead>\n",
       "  <tbody>\n",
       "    <tr>\n",
       "      <th>0</th>\n",
       "      <td>1</td>\n",
       "      <td>300665</td>\n",
       "      <td>4</td>\n",
       "    </tr>\n",
       "    <tr>\n",
       "      <th>1</th>\n",
       "      <td>1</td>\n",
       "      <td>439502</td>\n",
       "      <td>4</td>\n",
       "    </tr>\n",
       "    <tr>\n",
       "      <th>2</th>\n",
       "      <td>1</td>\n",
       "      <td>271404</td>\n",
       "      <td>5</td>\n",
       "    </tr>\n",
       "    <tr>\n",
       "      <th>3</th>\n",
       "      <td>671</td>\n",
       "      <td>4896</td>\n",
       "      <td>5</td>\n",
       "    </tr>\n",
       "    <tr>\n",
       "      <th>4</th>\n",
       "      <td>671</td>\n",
       "      <td>4963</td>\n",
       "      <td>5</td>\n",
       "    </tr>\n",
       "  </tbody>\n",
       "</table>\n",
       "</div>"
      ],
      "text/plain": [
       "   userId  movieId  rating\n",
       "0       1   300665       4\n",
       "1       1   439502       4\n",
       "2       1   271404       5\n",
       "3     671     4896       5\n",
       "4     671     4963       5"
      ]
     },
     "execution_count": 4,
     "metadata": {},
     "output_type": "execute_result"
    }
   ],
   "source": [
    "rating_df = pd.read_csv(ratings_exports)\n",
    "print(rating_df.shape)\n",
    "rating_df.head()"
   ]
  },
  {
   "cell_type": "markdown",
   "metadata": {},
   "source": [
    "Join the movies dataset and ratings dataset."
   ]
  },
  {
   "cell_type": "code",
   "execution_count": 5,
   "metadata": {
    "execution": {
     "iopub.execute_input": "2022-09-21T17:06:10.040852Z",
     "iopub.status.busy": "2022-09-21T17:06:10.040662Z",
     "iopub.status.idle": "2022-09-21T17:06:10.074145Z",
     "shell.execute_reply": "2022-09-21T17:06:10.073404Z",
     "shell.execute_reply.started": "2022-09-21T17:06:10.040836Z"
    }
   },
   "outputs": [
    {
     "name": "stdout",
     "output_type": "stream",
     "text": [
      "(80913, 9)\n"
     ]
    },
    {
     "data": {
      "text/html": [
       "<div>\n",
       "<style scoped>\n",
       "    .dataframe tbody tr th:only-of-type {\n",
       "        vertical-align: middle;\n",
       "    }\n",
       "\n",
       "    .dataframe tbody tr th {\n",
       "        vertical-align: top;\n",
       "    }\n",
       "\n",
       "    .dataframe thead th {\n",
       "        text-align: right;\n",
       "    }\n",
       "</style>\n",
       "<table border=\"1\" class=\"dataframe\">\n",
       "  <thead>\n",
       "    <tr style=\"text-align: right;\">\n",
       "      <th></th>\n",
       "      <th>userId</th>\n",
       "      <th>movieId</th>\n",
       "      <th>rating</th>\n",
       "      <th>release_date</th>\n",
       "      <th>rating_count</th>\n",
       "      <th>rating_avg</th>\n",
       "      <th>movieId_movie_df</th>\n",
       "      <th>movieIdx</th>\n",
       "      <th>trend</th>\n",
       "    </tr>\n",
       "  </thead>\n",
       "  <tbody>\n",
       "    <tr>\n",
       "      <th>13824</th>\n",
       "      <td>564</td>\n",
       "      <td>183</td>\n",
       "      <td>5</td>\n",
       "      <td>2000-02-09</td>\n",
       "      <td>311.0</td>\n",
       "      <td>4.57</td>\n",
       "      <td>318.0</td>\n",
       "      <td>183.0</td>\n",
       "      <td>1421.27</td>\n",
       "    </tr>\n",
       "    <tr>\n",
       "      <th>13832</th>\n",
       "      <td>564</td>\n",
       "      <td>206</td>\n",
       "      <td>5</td>\n",
       "      <td>1994-07-06</td>\n",
       "      <td>341.0</td>\n",
       "      <td>4.15</td>\n",
       "      <td>356.0</td>\n",
       "      <td>206.0</td>\n",
       "      <td>1415.15</td>\n",
       "    </tr>\n",
       "    <tr>\n",
       "      <th>17617</th>\n",
       "      <td>547</td>\n",
       "      <td>206</td>\n",
       "      <td>1</td>\n",
       "      <td>1994-07-06</td>\n",
       "      <td>341.0</td>\n",
       "      <td>4.15</td>\n",
       "      <td>356.0</td>\n",
       "      <td>206.0</td>\n",
       "      <td>1415.15</td>\n",
       "    </tr>\n",
       "    <tr>\n",
       "      <th>18388</th>\n",
       "      <td>536</td>\n",
       "      <td>206</td>\n",
       "      <td>4</td>\n",
       "      <td>1994-07-06</td>\n",
       "      <td>341.0</td>\n",
       "      <td>4.15</td>\n",
       "      <td>356.0</td>\n",
       "      <td>206.0</td>\n",
       "      <td>1415.15</td>\n",
       "    </tr>\n",
       "    <tr>\n",
       "      <th>31361</th>\n",
       "      <td>451</td>\n",
       "      <td>206</td>\n",
       "      <td>4</td>\n",
       "      <td>1994-07-06</td>\n",
       "      <td>341.0</td>\n",
       "      <td>4.15</td>\n",
       "      <td>356.0</td>\n",
       "      <td>206.0</td>\n",
       "      <td>1415.15</td>\n",
       "    </tr>\n",
       "  </tbody>\n",
       "</table>\n",
       "</div>"
      ],
      "text/plain": [
       "       userId  movieId  rating release_date  rating_count  rating_avg  \\\n",
       "13824     564      183       5   2000-02-09         311.0        4.57   \n",
       "13832     564      206       5   1994-07-06         341.0        4.15   \n",
       "17617     547      206       1   1994-07-06         341.0        4.15   \n",
       "18388     536      206       4   1994-07-06         341.0        4.15   \n",
       "31361     451      206       4   1994-07-06         341.0        4.15   \n",
       "\n",
       "       movieId_movie_df  movieIdx    trend  \n",
       "13824             318.0     183.0  1421.27  \n",
       "13832             356.0     206.0  1415.15  \n",
       "17617             356.0     206.0  1415.15  \n",
       "18388             356.0     206.0  1415.15  \n",
       "31361             356.0     206.0  1415.15  "
      ]
     },
     "execution_count": 5,
     "metadata": {},
     "output_type": "execute_result"
    }
   ],
   "source": [
    "df = rating_df.copy()\n",
    "df['userId'] = df['userId'].astype(int)\n",
    "df['movieId'] = df['movieId'].astype(int)\n",
    "df = df.join(movies_df, on='movieId', rsuffix='_movie_df')\n",
    "df.sort_values(by=['trend'], inplace=True, ascending=False)\n",
    "print(df.shape)\n",
    "df.head()"
   ]
  },
  {
   "cell_type": "markdown",
   "metadata": {},
   "source": [
    "Make note of the missing number of movies from the ratings dataset. These are missing for a couple reasons: \n",
    "- Initial dataset used had invalid ids (from the movielens datasset) - Most likely\n",
    "- Movies have been deleted from the Recommender database - Likely\n",
    "- Incorrect datatypes - Unlikely but possible"
   ]
  },
  {
   "cell_type": "code",
   "execution_count": 6,
   "metadata": {
    "execution": {
     "iopub.execute_input": "2022-09-21T17:06:10.075958Z",
     "iopub.status.busy": "2022-09-21T17:06:10.075767Z",
     "iopub.status.idle": "2022-09-21T17:06:10.085651Z",
     "shell.execute_reply": "2022-09-21T17:06:10.085017Z",
     "shell.execute_reply.started": "2022-09-21T17:06:10.075943Z"
    }
   },
   "outputs": [
    {
     "name": "stdout",
     "output_type": "stream",
     "text": [
      "2733 movie ids missing that were rated\n"
     ]
    }
   ],
   "source": [
    "missing_data = df[df['movieIdx'].isna()]\n",
    "\n",
    "number_of_missing_movies = len(missing_data.movieId.unique().tolist())\n",
    "print(number_of_missing_movies, 'movie ids missing that were rated')"
   ]
  },
  {
   "cell_type": "markdown",
   "metadata": {},
   "source": [
    "Drop `NaN` columns that lack a `movieIdx` value:"
   ]
  },
  {
   "cell_type": "code",
   "execution_count": 7,
   "metadata": {
    "execution": {
     "iopub.execute_input": "2022-09-21T17:06:10.086700Z",
     "iopub.status.busy": "2022-09-21T17:06:10.086512Z",
     "iopub.status.idle": "2022-09-21T17:06:10.111342Z",
     "shell.execute_reply": "2022-09-21T17:06:10.110841Z",
     "shell.execute_reply.started": "2022-09-21T17:06:10.086686Z"
    }
   },
   "outputs": [
    {
     "data": {
      "text/plain": [
       "(53219, 9)"
      ]
     },
     "execution_count": 7,
     "metadata": {},
     "output_type": "execute_result"
    }
   ],
   "source": [
    "training_df = df.copy().dropna()\n",
    "training_df['movieIdx'] = training_df['movieIdx'].astype(int)\n",
    "training_df.shape"
   ]
  },
  {
   "cell_type": "code",
   "execution_count": 11,
   "metadata": {
    "execution": {
     "iopub.execute_input": "2022-09-21T17:06:10.112412Z",
     "iopub.status.busy": "2022-09-21T17:06:10.112233Z",
     "iopub.status.idle": "2022-09-21T17:06:10.129617Z",
     "shell.execute_reply": "2022-09-21T17:06:10.129112Z",
     "shell.execute_reply.started": "2022-09-21T17:06:10.112397Z"
    }
   },
   "outputs": [
    {
     "name": "stdout",
     "output_type": "stream",
     "text": [
      "Number of users: 671, Number of Movies: 3324, Min rating: 1.0, Max rating: 5.0\n"
     ]
    }
   ],
   "source": [
    "user_ids = training_df[\"userId\"].unique().tolist()\n",
    "user2user_encoded = {x: i for i, x in enumerate(user_ids)}\n",
    "userencoded2user = {i: x for i, x in enumerate(user_ids)}\n",
    "\n",
    "\n",
    "\n",
    "movie_ids = training_df[\"movieIdx\"].unique().tolist()\n",
    "\n",
    "df = training_df.copy()\n",
    "df[\"user\"] = df[\"userId\"].map(user2user_encoded)\n",
    "df[\"movie\"] = df[\"movieIdx\"]\n",
    "\n",
    "num_users = len(user2user_encoded)\n",
    "num_movies = len(movie_ids)\n",
    "total_movies = max(movie_ids)\n",
    "\n",
    "df[\"rating\"] = training_df[\"rating\"].values.astype(np.float32)\n",
    "# min and max ratings will be used to normalize the ratings later\n",
    "min_rating = min(df[\"rating\"])\n",
    "max_rating = max(df[\"rating\"])\n",
    "\n",
    "print(\n",
    "    \"Number of users: {}, Number of Movies: {}, Min rating: {}, Max rating: {}\".format(\n",
    "        num_users, num_movies, min_rating, max_rating\n",
    "    )\n",
    ")"
   ]
  },
  {
   "cell_type": "code",
   "execution_count": 9,
   "metadata": {
    "execution": {
     "iopub.execute_input": "2022-09-21T17:06:10.130513Z",
     "iopub.status.busy": "2022-09-21T17:06:10.130312Z",
     "iopub.status.idle": "2022-09-21T17:06:10.153283Z",
     "shell.execute_reply": "2022-09-21T17:06:10.152775Z",
     "shell.execute_reply.started": "2022-09-21T17:06:10.130497Z"
    }
   },
   "outputs": [],
   "source": [
    "df = df.sample(frac=1, random_state=42)\n",
    "x = df[[\"user\", \"movie\"]].values\n",
    "# Normalize the targets between 0 and 1. Makes it easy to train.\n",
    "y = df[\"rating\"].apply(lambda x: (x - min_rating) / (max_rating - min_rating)).values\n",
    "# Assuming training on 90% of the data and validating on 10%.\n",
    "train_indices = int(0.9 * df.shape[0])\n",
    "x_train, x_val, y_train, y_val = (\n",
    "    x[:train_indices],\n",
    "    x[train_indices:],\n",
    "    y[:train_indices],\n",
    "    y[train_indices:],\n",
    ")"
   ]
  },
  {
   "cell_type": "code",
   "execution_count": 12,
   "metadata": {
    "execution": {
     "iopub.execute_input": "2022-09-21T17:06:10.154113Z",
     "iopub.status.busy": "2022-09-21T17:06:10.153932Z",
     "iopub.status.idle": "2022-09-21T17:06:10.201159Z",
     "shell.execute_reply": "2022-09-21T17:06:10.200590Z",
     "shell.execute_reply.started": "2022-09-21T17:06:10.154098Z"
    }
   },
   "outputs": [],
   "source": [
    "from tensorflow.keras.layers import Embedding, multiply, concatenate, Flatten, Input, Dense\n",
    "from tensorflow.keras import optimizers as opt\n",
    "\n",
    "# from sklearn.model_selection import train_test_split\n",
    "# from keras.layers import Input, Embedding, Flatten, Dot, Dense, Concatenate\n",
    "from keras.models import Model\n",
    "\n",
    "\n",
    "\n",
    "EMBEDDING_SIZE = 500\n",
    "num_unique_users = num_users\n",
    "num_unique_movies = total_movies\n",
    "users_input = Input(shape=(1,), name=\"users_input\")\n",
    "users_embedding = Embedding(num_unique_users + 1, EMBEDDING_SIZE, name=\"users_embeddings\")(users_input)\n",
    "users_bias = Embedding(num_unique_users + 1, 1, name=\"users_bias\")(users_input)\n",
    "\n",
    "movies_input = Input(shape=(1,), name=\"movies_input\")\n",
    "movies_embedding = Embedding(num_unique_movies + 1, EMBEDDING_SIZE, name=\"movies_embedding\")(movies_input)\n",
    "movies_bias = Embedding(num_unique_movies + 1, 1, name=\"movies_bias\")(movies_input)\n",
    "\n",
    "dot_product_users_movies = multiply([users_embedding, movies_embedding])\n",
    "input_terms = dot_product_users_movies + users_bias + movies_bias\n",
    "input_terms = Flatten(name=\"fl_inputs\")(input_terms)\n",
    "# output = Dense(1, activation=\"relu\", name=\"output\")(input_terms) \n",
    "\n",
    "output = Dense(1, activation=\"sigmoid\", name=\"output\")(input_terms) \n",
    "output = output * (max_rating - min_rating) + min_rating\n",
    "\n",
    "\n",
    "model = Model(inputs=[users_input, movies_input], outputs=output)\n",
    "\n",
    "opt_adam = opt.Adam(learning_rate = 0.005)\n",
    "model.compile(optimizer=opt_adam, loss= ['mse'], metrics=['mean_absolute_error'])"
   ]
  },
  {
   "cell_type": "code",
   "execution_count": 13,
   "metadata": {
    "execution": {
     "iopub.execute_input": "2022-09-21T17:07:27.863315Z",
     "iopub.status.busy": "2022-09-21T17:07:27.862678Z",
     "iopub.status.idle": "2022-09-21T17:07:27.883267Z",
     "shell.execute_reply": "2022-09-21T17:07:27.882685Z",
     "shell.execute_reply.started": "2022-09-21T17:07:27.863292Z"
    }
   },
   "outputs": [
    {
     "name": "stdout",
     "output_type": "stream",
     "text": [
      "Model: \"model\"\n",
      "__________________________________________________________________________________________________\n",
      " Layer (type)                Output Shape                 Param #   Connected to                  \n",
      "==================================================================================================\n",
      " users_input (InputLayer)    [(None, 1)]                  0         []                            \n",
      "                                                                                                  \n",
      " movies_input (InputLayer)   [(None, 1)]                  0         []                            \n",
      "                                                                                                  \n",
      " users_embeddings (Embeddin  (None, 1, 500)               336000    ['users_input[0][0]']         \n",
      " g)                                                                                               \n",
      "                                                                                                  \n",
      " movies_embedding (Embeddin  (None, 1, 500)               2100400   ['movies_input[0][0]']        \n",
      " g)                                                       0                                       \n",
      "                                                                                                  \n",
      " multiply (Multiply)         (None, 1, 500)               0         ['users_embeddings[0][0]',    \n",
      "                                                                     'movies_embedding[0][0]']    \n",
      "                                                                                                  \n",
      " users_bias (Embedding)      (None, 1, 1)                 672       ['users_input[0][0]']         \n",
      "                                                                                                  \n",
      " tf.__operators__.add (TFOp  (None, 1, 500)               0         ['multiply[0][0]',            \n",
      " Lambda)                                                             'users_bias[0][0]']          \n",
      "                                                                                                  \n",
      " movies_bias (Embedding)     (None, 1, 1)                 42008     ['movies_input[0][0]']        \n",
      "                                                                                                  \n",
      " tf.__operators__.add_1 (TF  (None, 1, 500)               0         ['tf.__operators__.add[0][0]',\n",
      " OpLambda)                                                           'movies_bias[0][0]']         \n",
      "                                                                                                  \n",
      " fl_inputs (Flatten)         (None, 500)                  0         ['tf.__operators__.add_1[0][0]\n",
      "                                                                    ']                            \n",
      "                                                                                                  \n",
      " output (Dense)              (None, 1)                    501       ['fl_inputs[0][0]']           \n",
      "                                                                                                  \n",
      " tf.math.multiply (TFOpLamb  (None, 1)                    0         ['output[0][0]']              \n",
      " da)                                                                                              \n",
      "                                                                                                  \n",
      " tf.__operators__.add_2 (TF  (None, 1)                    0         ['tf.math.multiply[0][0]']    \n",
      " OpLambda)                                                                                        \n",
      "                                                                                                  \n",
      "==================================================================================================\n",
      "Total params: 21383181 (81.57 MB)\n",
      "Trainable params: 21383181 (81.57 MB)\n",
      "Non-trainable params: 0 (0.00 Byte)\n",
      "__________________________________________________________________________________________________\n"
     ]
    }
   ],
   "source": [
    "model.summary()"
   ]
  },
  {
   "cell_type": "code",
   "execution_count": 14,
   "metadata": {
    "execution": {
     "iopub.execute_input": "2022-09-21T17:06:10.202063Z",
     "iopub.status.busy": "2022-09-21T17:06:10.201888Z",
     "iopub.status.idle": "2022-09-21T17:06:10.224755Z",
     "shell.execute_reply": "2022-09-21T17:06:10.224197Z",
     "shell.execute_reply.started": "2022-09-21T17:06:10.202048Z"
    }
   },
   "outputs": [],
   "source": [
    "df_train, df_val = train_test_split(df, random_state=42, test_size=0.2, stratify=df.rating)"
   ]
  },
  {
   "cell_type": "code",
   "execution_count": 15,
   "metadata": {
    "execution": {
     "iopub.execute_input": "2022-09-21T17:06:50.781014Z",
     "iopub.status.busy": "2022-09-21T17:06:50.780612Z",
     "iopub.status.idle": "2022-09-21T17:07:02.851920Z",
     "shell.execute_reply": "2022-09-21T17:07:02.851282Z",
     "shell.execute_reply.started": "2022-09-21T17:06:50.780993Z"
    }
   },
   "outputs": [
    {
     "name": "stdout",
     "output_type": "stream",
     "text": [
      "Epoch 1/10\n",
      "213/213 [==============================] - 75s 337ms/step - loss: 0.9411 - mean_absolute_error: 0.7670 - val_loss: 0.8313 - val_mean_absolute_error: 0.7104\n",
      "Epoch 2/10\n",
      "213/213 [==============================] - 66s 312ms/step - loss: 0.5520 - mean_absolute_error: 0.5774 - val_loss: 0.8428 - val_mean_absolute_error: 0.7148\n",
      "Epoch 3/10\n",
      "213/213 [==============================] - 88s 411ms/step - loss: 0.1751 - mean_absolute_error: 0.3323 - val_loss: 0.8398 - val_mean_absolute_error: 0.7163\n",
      "Epoch 4/10\n",
      "213/213 [==============================] - 85s 401ms/step - loss: 0.0896 - mean_absolute_error: 0.2344 - val_loss: 0.8422 - val_mean_absolute_error: 0.7119\n",
      "Epoch 5/10\n",
      "213/213 [==============================] - 83s 390ms/step - loss: 0.0647 - mean_absolute_error: 0.1943 - val_loss: 0.8447 - val_mean_absolute_error: 0.7143\n",
      "Epoch 6/10\n",
      "213/213 [==============================] - 84s 396ms/step - loss: 0.0594 - mean_absolute_error: 0.1826 - val_loss: 0.8506 - val_mean_absolute_error: 0.7126\n",
      "Epoch 7/10\n",
      "213/213 [==============================] - 76s 357ms/step - loss: 0.0624 - mean_absolute_error: 0.1895 - val_loss: 0.8486 - val_mean_absolute_error: 0.7132\n",
      "Epoch 8/10\n",
      "213/213 [==============================] - 65s 308ms/step - loss: 0.0610 - mean_absolute_error: 0.1910 - val_loss: 0.8511 - val_mean_absolute_error: 0.7123\n",
      "Epoch 9/10\n",
      "213/213 [==============================] - 63s 297ms/step - loss: 0.0549 - mean_absolute_error: 0.1826 - val_loss: 0.8530 - val_mean_absolute_error: 0.7178\n",
      "Epoch 10/10\n",
      "213/213 [==============================] - 64s 300ms/step - loss: 0.0500 - mean_absolute_error: 0.1754 - val_loss: 0.8564 - val_mean_absolute_error: 0.7176\n"
     ]
    }
   ],
   "source": [
    "history = model.fit(\n",
    "    x=[df_train.user.to_numpy(), df_train.movie.to_numpy()],\n",
    "    y=df_train.rating.to_numpy(),\n",
    "    batch_size=200,\n",
    "    epochs=10,\n",
    "    verbose=1,\n",
    "    validation_data=([df_val.user.to_numpy(), df_val.movie.to_numpy()],df_val.rating.to_numpy()))"
   ]
  },
  {
   "cell_type": "code",
   "execution_count": 17,
   "metadata": {},
   "outputs": [
    {
     "data": {
      "image/png": "[encoded data removed]",
      "text/plain": [
       "<Figure size 1200x600 with 2 Axes>"
      ]
     },
     "metadata": {},
     "output_type": "display_data"
    }
   ],
   "source": [
    "import matplotlib.pyplot as plt\n",
    "\n",
    "\n",
    "# Lấy thông tin về quá trình đào tạo từ lịch sử\n",
    "training_loss = history.history['loss']\n",
    "validation_loss = history.history['val_loss']\n",
    "training_mae = history.history['mean_absolute_error']\n",
    "validation_mae = history.history['val_mean_absolute_error']\n",
    "\n",
    "# Vẽ đồ thị loss\n",
    "plt.figure(figsize=(12, 6))\n",
    "\n",
    "plt.subplot(1, 2, 1)\n",
    "plt.plot(training_loss, label='Training Loss')\n",
    "plt.plot(validation_loss, label='Validation Loss')\n",
    "plt.title('Training and Validation Loss')\n",
    "plt.xlabel('Epoch')\n",
    "plt.ylabel('Loss')\n",
    "plt.legend()\n",
    "\n",
    "# Vẽ đồ thị mean absolute error\n",
    "plt.subplot(1, 2, 2)\n",
    "plt.plot(training_mae, label='Training MAE')\n",
    "plt.plot(validation_mae, label='Validation MAE')\n",
    "plt.title('Training and Validation Mean Absolute Error')\n",
    "plt.xlabel('Epoch')\n",
    "plt.ylabel('MAE')\n",
    "plt.legend()\n",
    "\n",
    "plt.tight_layout()\n",
    "plt.show()"
   ]
  },
  {
   "cell_type": "markdown",
   "metadata": {},
   "source": [
    "Save the model for reuse"
   ]
  },
  {
   "cell_type": "code",
   "execution_count": 18,
   "metadata": {},
   "outputs": [],
   "source": [
    "model.save('neural_collaborative_filtering.h5')"
   ]
  },
  {
   "cell_type": "markdown",
   "metadata": {},
   "source": [
    "Load model"
   ]
  },
  {
   "cell_type": "code",
   "execution_count": 19,
   "metadata": {},
   "outputs": [],
   "source": [
    "from tensorflow.keras.models import load_model\n",
    "\n",
    "loaded_model = load_model(\"neural_collaborative_filtering.h5\")"
   ]
  },
  {
   "cell_type": "code",
   "execution_count": 20,
   "metadata": {
    "execution": {
     "iopub.execute_input": "2022-09-21T17:13:32.391219Z",
     "iopub.status.busy": "2022-09-21T17:13:32.390726Z",
     "iopub.status.idle": "2022-09-21T17:13:32.445178Z",
     "shell.execute_reply": "2022-09-21T17:13:32.444683Z",
     "shell.execute_reply.started": "2022-09-21T17:13:32.391197Z"
    }
   },
   "outputs": [
    {
     "name": "stdout",
     "output_type": "stream",
     "text": [
      "4/4 [==============================] - 7s 8ms/step\n"
     ]
    },
    {
     "data": {
      "text/plain": [
       "array([[4.1971083],\n",
       "       [2.2709575],\n",
       "       [3.8541286],\n",
       "       [2.99397  ],\n",
       "       [3.2842648],\n",
       "       [4.767696 ],\n",
       "       [2.9000697],\n",
       "       [4.2459974],\n",
       "       [3.2318368],\n",
       "       [2.1886694],\n",
       "       [4.4211974],\n",
       "       [2.2977142],\n",
       "       [3.1902683],\n",
       "       [3.9870877],\n",
       "       [2.688809 ],\n",
       "       [3.9437492],\n",
       "       [4.7886815],\n",
       "       [3.5100868],\n",
       "       [4.0467253],\n",
       "       [2.7755995],\n",
       "       [3.0570555],\n",
       "       [4.065075 ],\n",
       "       [3.6254497],\n",
       "       [4.7247996],\n",
       "       [1.8622802],\n",
       "       [4.0141535],\n",
       "       [3.6408095],\n",
       "       [2.7907197],\n",
       "       [3.0454261],\n",
       "       [3.9216452],\n",
       "       [2.983789 ],\n",
       "       [2.8378928],\n",
       "       [2.1617084],\n",
       "       [4.1293154],\n",
       "       [2.6288924],\n",
       "       [3.7957647],\n",
       "       [3.3545172],\n",
       "       [2.6533194],\n",
       "       [3.247441 ],\n",
       "       [2.8724394],\n",
       "       [3.9058173],\n",
       "       [2.9794817],\n",
       "       [2.02249  ],\n",
       "       [3.9896622],\n",
       "       [2.9828777],\n",
       "       [4.3411064],\n",
       "       [3.0503092],\n",
       "       [3.091005 ],\n",
       "       [2.4224546],\n",
       "       [3.875989 ],\n",
       "       [4.007616 ],\n",
       "       [3.3787663],\n",
       "       [2.812725 ],\n",
       "       [3.082319 ],\n",
       "       [2.0603056],\n",
       "       [2.018348 ],\n",
       "       [3.7026846],\n",
       "       [3.9864905],\n",
       "       [4.2000413],\n",
       "       [2.8763025],\n",
       "       [1.9494697],\n",
       "       [2.9828777],\n",
       "       [2.8689337],\n",
       "       [3.943806 ],\n",
       "       [4.0725446],\n",
       "       [3.8644092],\n",
       "       [3.045438 ],\n",
       "       [3.0326738],\n",
       "       [2.8232098],\n",
       "       [2.688809 ],\n",
       "       [3.3800488],\n",
       "       [3.6193037],\n",
       "       [3.745036 ],\n",
       "       [3.6254497],\n",
       "       [3.2736726],\n",
       "       [2.7491107],\n",
       "       [2.3695443],\n",
       "       [4.0476413],\n",
       "       [3.1903248],\n",
       "       [3.3023968],\n",
       "       [4.013007 ],\n",
       "       [2.579805 ],\n",
       "       [3.4556246],\n",
       "       [4.2000413],\n",
       "       [3.9487154],\n",
       "       [3.1229002],\n",
       "       [3.0115688],\n",
       "       [3.963339 ],\n",
       "       [3.1421585],\n",
       "       [2.859744 ],\n",
       "       [4.100155 ],\n",
       "       [3.4523182],\n",
       "       [2.4969907],\n",
       "       [3.0326738],\n",
       "       [2.8523023],\n",
       "       [3.1650069],\n",
       "       [4.2000413],\n",
       "       [4.6939163],\n",
       "       [3.247441 ],\n",
       "       [4.378948 ]], dtype=float32)"
      ]
     },
     "execution_count": 20,
     "metadata": {},
     "output_type": "execute_result"
    }
   ],
   "source": [
    "number_of_preds = 100\n",
    "movies = df.sample(n=number_of_preds).movie.to_list()\n",
    "user_list = df.sample(n=1).user.to_list() * number_of_preds\n",
    "use_id = False\n",
    "if use_id:\n",
    "    user_list = [user2user_encoded.get(1)] * number_of_preds\n",
    "preds = loaded_model.predict(x=[np.array(user_list), np.array(movies)])\n",
    "preds"
   ]
  },
  {
   "cell_type": "code",
   "execution_count": 21,
   "metadata": {
    "execution": {
     "iopub.execute_input": "2022-09-21T17:13:46.311869Z",
     "iopub.status.busy": "2022-09-21T17:13:46.311258Z",
     "iopub.status.idle": "2022-09-21T17:13:46.321652Z",
     "shell.execute_reply": "2022-09-21T17:13:46.321048Z",
     "shell.execute_reply.started": "2022-09-21T17:13:46.311846Z"
    }
   },
   "outputs": [
    {
     "name": "stdout",
     "output_type": "stream",
     "text": [
      "452 3911 4.1971083\n",
      "452 4700 2.2709575\n",
      "452 1408 3.8541286\n",
      "452 2970 2.99397\n",
      "452 2803 3.2842648\n",
      "452 1097 4.767696\n",
      "452 2420 2.9000697\n",
      "452 2762 4.2459974\n",
      "452 1527 3.2318368\n",
      "452 3247 2.1886694\n",
      "452 905 4.4211974\n",
      "452 1769 2.2977142\n",
      "452 1061 3.1902683\n",
      "452 1 3.9870877\n",
      "452 410 2.688809\n",
      "452 2108 3.9437492\n",
      "452 1207 4.7886815\n",
      "452 329 3.5100868\n",
      "452 1242 4.0467253\n",
      "452 1998 2.7755995\n",
      "452 8487 3.0570555\n",
      "452 904 4.065075\n",
      "452 356 3.6254497\n",
      "452 2268 4.7247996\n",
      "452 3113 1.8622802\n",
      "452 802 4.0141535\n",
      "452 1300 3.6408095\n",
      "452 1943 2.7907197\n",
      "452 10 3.0454261\n",
      "452 4848 3.9216452\n",
      "452 2707 2.983789\n",
      "452 4014 2.8378928\n",
      "452 1752 2.1617084\n",
      "452 3421 4.1293154\n",
      "452 494 2.6288924\n",
      "452 3060 3.7957647\n",
      "452 1188 3.3545172\n",
      "452 1580 2.6533194\n",
      "452 2094 3.247441\n",
      "452 597 2.8724394\n",
      "452 509 3.9058173\n",
      "452 2405 2.9794817\n",
      "452 3552 2.02249\n",
      "452 4223 3.9896622\n",
      "452 2640 2.9828777\n",
      "452 1270 4.3411064\n",
      "452 367 3.0503092\n",
      "452 2968 3.091005\n",
      "452 2567 2.4224546\n",
      "452 194 3.875989\n",
      "452 589 4.007616\n",
      "452 599 3.3787663\n",
      "452 1197 2.812725\n",
      "452 2912 3.082319\n",
      "452 4890 2.0603056\n",
      "452 4149 2.018348\n",
      "452 1304 3.7026846\n",
      "452 909 3.9864905\n",
      "452 527 4.2000413\n",
      "452 1983 2.8763025\n",
      "452 223 1.9494697\n",
      "452 2640 2.9828777\n",
      "452 520 2.8689337\n",
      "452 3499 3.943806\n",
      "452 2302 4.0725446\n",
      "452 1104 3.8644092\n",
      "452 161 3.045438\n",
      "452 1101 3.0326738\n",
      "452 569 2.8232098\n",
      "452 410 2.688809\n",
      "452 4896 3.3800488\n",
      "452 40629 3.6193037\n",
      "452 1292 3.745036\n",
      "452 356 3.6254497\n",
      "452 3019 3.2736726\n",
      "452 3534 2.7491107\n",
      "452 6365 2.3695443\n",
      "452 1240 4.0476413\n",
      "452 733 3.1903248\n",
      "452 1320 3.3023968\n",
      "452 910 4.013007\n",
      "452 1848 2.579805\n",
      "452 2915 3.4556246\n",
      "452 527 4.2000413\n",
      "452 2329 3.9487154\n",
      "452 1175 3.1229002\n",
      "452 168 3.0115688\n",
      "452 2467 3.963339\n",
      "452 2997 3.1421585\n",
      "452 3896 2.859744\n",
      "452 260 4.100155\n",
      "452 3729 3.4523182\n",
      "452 1091 2.4969907\n",
      "452 1101 3.0326738\n",
      "452 982 2.8523023\n",
      "452 3253 3.1650069\n",
      "452 527 4.2000413\n",
      "452 1704 4.6939163\n",
      "452 2094 3.247441\n",
      "452 1299 4.378948\n"
     ]
    }
   ],
   "source": [
    "suggestions = []\n",
    "user_id = userencoded2user.get(user_list[0])\n",
    "\n",
    "suggestions_df = movies_df.copy()[movies_df['movieIdx'].isin(movies)]\n",
    "suggestions_df['userId'] = user_id\n",
    "\n",
    "suggestions_df['score'] = suggestions_df['movieIdx'].apply(lambda x: preds[movies.index(x)][0])\n",
    "\n",
    "for i, movieIdx in enumerate(movies):\n",
    "    pred_rank = preds[i][0]\n",
    "    print(user_id, movieIdx, pred_rank)"
   ]
  },
  {
   "cell_type": "code",
   "execution_count": 22,
   "metadata": {
    "execution": {
     "iopub.execute_input": "2022-09-21T17:13:47.821071Z",
     "iopub.status.busy": "2022-09-21T17:13:47.820572Z",
     "iopub.status.idle": "2022-09-21T17:13:47.829043Z",
     "shell.execute_reply": "2022-09-21T17:13:47.828514Z",
     "shell.execute_reply.started": "2022-09-21T17:13:47.821050Z"
    }
   },
   "outputs": [
    {
     "data": {
      "text/plain": [
       "count    1118.000000\n",
       "mean        3.271914\n",
       "std         1.023160\n",
       "min         1.000000\n",
       "25%         3.000000\n",
       "50%         3.000000\n",
       "75%         4.000000\n",
       "max         5.000000\n",
       "Name: rating, dtype: float64"
      ]
     },
     "execution_count": 22,
     "metadata": {},
     "output_type": "execute_result"
    }
   ],
   "source": [
    "user_ratings = rating_df.copy()[rating_df.userId == suggestions_df.userId.tolist()[0]]\n",
    "user_ratings.rating.describe()"
   ]
  },
  {
   "cell_type": "code",
   "execution_count": 23,
   "metadata": {
    "execution": {
     "iopub.execute_input": "2022-09-21T17:13:48.490239Z",
     "iopub.status.busy": "2022-09-21T17:13:48.489743Z",
     "iopub.status.idle": "2022-09-21T17:13:48.498857Z",
     "shell.execute_reply": "2022-09-21T17:13:48.498307Z",
     "shell.execute_reply.started": "2022-09-21T17:13:48.490217Z"
    }
   },
   "outputs": [
    {
     "data": {
      "text/html": [
       "<div>\n",
       "<style scoped>\n",
       "    .dataframe tbody tr th:only-of-type {\n",
       "        vertical-align: middle;\n",
       "    }\n",
       "\n",
       "    .dataframe tbody tr th {\n",
       "        vertical-align: top;\n",
       "    }\n",
       "\n",
       "    .dataframe thead th {\n",
       "        text-align: right;\n",
       "    }\n",
       "</style>\n",
       "<table border=\"1\" class=\"dataframe\">\n",
       "  <thead>\n",
       "    <tr style=\"text-align: right;\">\n",
       "      <th></th>\n",
       "      <th>release_date</th>\n",
       "      <th>rating_count</th>\n",
       "      <th>rating_avg</th>\n",
       "      <th>movieId</th>\n",
       "      <th>movieIdx</th>\n",
       "      <th>trend</th>\n",
       "      <th>userId</th>\n",
       "      <th>score</th>\n",
       "    </tr>\n",
       "  </thead>\n",
       "  <tbody>\n",
       "    <tr>\n",
       "      <th>1207</th>\n",
       "      <td>1994-02-11</td>\n",
       "      <td>4.0</td>\n",
       "      <td>2.50</td>\n",
       "      <td>2036</td>\n",
       "      <td>1207</td>\n",
       "      <td>10.00</td>\n",
       "      <td>452</td>\n",
       "      <td>4.788682</td>\n",
       "    </tr>\n",
       "    <tr>\n",
       "      <th>1097</th>\n",
       "      <td>1963-04-30</td>\n",
       "      <td>1.0</td>\n",
       "      <td>1.00</td>\n",
       "      <td>1849</td>\n",
       "      <td>1097</td>\n",
       "      <td>1.00</td>\n",
       "      <td>452</td>\n",
       "      <td>4.767696</td>\n",
       "    </tr>\n",
       "    <tr>\n",
       "      <th>2268</th>\n",
       "      <td>1972-09-30</td>\n",
       "      <td>2.0</td>\n",
       "      <td>3.00</td>\n",
       "      <td>3490</td>\n",
       "      <td>2268</td>\n",
       "      <td>6.00</td>\n",
       "      <td>452</td>\n",
       "      <td>4.724800</td>\n",
       "    </tr>\n",
       "    <tr>\n",
       "      <th>1704</th>\n",
       "      <td>1988-08-05</td>\n",
       "      <td>3.0</td>\n",
       "      <td>2.33</td>\n",
       "      <td>2733</td>\n",
       "      <td>1704</td>\n",
       "      <td>6.99</td>\n",
       "      <td>452</td>\n",
       "      <td>4.693916</td>\n",
       "    </tr>\n",
       "    <tr>\n",
       "      <th>905</th>\n",
       "      <td>1997-04-25</td>\n",
       "      <td>20.0</td>\n",
       "      <td>3.00</td>\n",
       "      <td>1515</td>\n",
       "      <td>905</td>\n",
       "      <td>60.00</td>\n",
       "      <td>452</td>\n",
       "      <td>4.421197</td>\n",
       "    </tr>\n",
       "  </tbody>\n",
       "</table>\n",
       "</div>"
      ],
      "text/plain": [
       "     release_date  rating_count  rating_avg  movieId  movieIdx  trend  userId  \\\n",
       "1207   1994-02-11           4.0        2.50     2036      1207  10.00     452   \n",
       "1097   1963-04-30           1.0        1.00     1849      1097   1.00     452   \n",
       "2268   1972-09-30           2.0        3.00     3490      2268   6.00     452   \n",
       "1704   1988-08-05           3.0        2.33     2733      1704   6.99     452   \n",
       "905    1997-04-25          20.0        3.00     1515       905  60.00     452   \n",
       "\n",
       "         score  \n",
       "1207  4.788682  \n",
       "1097  4.767696  \n",
       "2268  4.724800  \n",
       "1704  4.693916  \n",
       "905   4.421197  "
      ]
     },
     "execution_count": 23,
     "metadata": {},
     "output_type": "execute_result"
    }
   ],
   "source": [
    "suggestions_df.sort_values(by=['score'], inplace=True, ascending=False)\n",
    "suggestions_df.head()"
   ]
  }
 ],
 "metadata": {
  "accelerator": "GPU",
  "colab": {
   "collapsed_sections": [],
   "provenance": []
  },
  "gpuClass": "standard",
  "kernelspec": {
   "display_name": "Python 3 (ipykernel)",
   "language": "python",
   "name": "python3"
  },
  "language_info": {
   "codemirror_mode": {
    "name": "ipython",
    "version": 3
   },
   "file_extension": ".py",
   "mimetype": "text/x-python",
   "name": "python",
   "nbconvert_exporter": "python",
   "pygments_lexer": "ipython3",
   "version": "3.8.4"
  },
  "vscode": {
   "interpreter": {
    "hash": "ec64b31cc60f70e8dab7346c6ae7185d9efc964eeeacbce2cf14a9d83453e877"
   }
  }
 },
 "nbformat": 4,
 "nbformat_minor": 4
}
